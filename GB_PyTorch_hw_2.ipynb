{
  "nbformat": 4,
  "nbformat_minor": 0,
  "metadata": {
    "colab": {
      "provenance": [],
      "authorship_tag": "ABX9TyMPJ46dHGb1+En3Hjs1Nspg",
      "include_colab_link": true
    },
    "kernelspec": {
      "name": "python3",
      "display_name": "Python 3"
    },
    "language_info": {
      "name": "python"
    },
    "gpuClass": "standard"
  },
  "cells": [
    {
      "cell_type": "markdown",
      "metadata": {
        "id": "view-in-github",
        "colab_type": "text"
      },
      "source": [
        "<a href=\"https://colab.research.google.com/github/nedokormysh/GB_PyTorch/blob/lesson2/GB_PyTorch_hw_2.ipynb\" target=\"_parent\"><img src=\"https://colab.research.google.com/assets/colab-badge.svg\" alt=\"Open In Colab\"/></a>"
      ]
    },
    {
      "cell_type": "markdown",
      "source": [
        "# Домашнее задание\n",
        "\n",
        "1. Добиться хорошего результата от модели, собранной на занятии (5 угаданныx картинок из 8 предложенных). Варианты изменений:\n",
        "- изменение слоёв и их количества;\n",
        "- изменение метода оптимизации;\n",
        "- изменение процесса обучения;\n",
        "- *преобразование данных transform\n",
        "\n",
        "2. *Переписать данный туториал на PyTorch: https://www.tensorflow.org/tutorials/quickstart/beginner?hl=ru"
      ],
      "metadata": {
        "id": "4wqlaNv6mKf8"
      }
    },
    {
      "cell_type": "code",
      "execution_count": 104,
      "metadata": {
        "id": "BuGmtUVNTluX"
      },
      "outputs": [],
      "source": [
        "import torch\n",
        "import numpy as np\n",
        "import torch.nn.functional as F\n",
        "from torch import nn\n",
        "import torchvision\n",
        "from torch import optim\n",
        "import torchvision.transforms as transforms\n",
        "import matplotlib.pyplot as plt\n",
        "\n",
        "import torchvision.transforms as transforms"
      ]
    },
    {
      "cell_type": "markdown",
      "source": [
        "Загрузка Cifar10"
      ],
      "metadata": {
        "id": "NI65wkiDmppe"
      }
    },
    {
      "cell_type": "code",
      "source": [
        "train_dataset = torchvision.datasets.CIFAR10(root='data/',\n",
        "                                             train=True,  \n",
        "                                             transform=transforms.ToTensor(), \n",
        "                                             download=True)\n",
        "\n",
        "test_dataset = torchvision.datasets.CIFAR10(root='./data', \n",
        "                                            train=False,\n",
        "                                            transform=transforms.ToTensor(),\n",
        "                                            download=True)\n",
        "     \n",
        "\n",
        "train_loader = torch.utils.data.DataLoader(dataset=train_dataset,\n",
        "                                           batch_size=64, \n",
        "                                           shuffle=True)\n",
        "\n",
        "test_loader = torch.utils.data.DataLoader(dataset=test_dataset, \n",
        "                                          batch_size=8,\n",
        "                                          shuffle=False)\n"
      ],
      "metadata": {
        "colab": {
          "base_uri": "https://localhost:8080/"
        },
        "id": "aMP82wUfmoKr",
        "outputId": "580f86c7-a245-44e5-e850-47cda20d0726"
      },
      "execution_count": 105,
      "outputs": [
        {
          "output_type": "stream",
          "name": "stdout",
          "text": [
            "Files already downloaded and verified\n",
            "Files already downloaded and verified\n"
          ]
        }
      ]
    },
    {
      "cell_type": "code",
      "source": [
        "# print(f\"Поддерживается ли CUDA : {torch.cuda.is_available()}\")\n",
        "# print(f'Количество гпу девайсов: {torch.cuda.device_count()}')\n",
        "# print(f\"Характеристики видеокарты : {torch.cuda.get_device_properties(0)}\")\n",
        "\n",
        "# torch.cuda.empty_cache()\n",
        "\n",
        "# device = torch.device(\"cuda:0\" if torch.cuda.is_available() else \"cpu\")\n",
        "# print(device)"
      ],
      "metadata": {
        "id": "G-pFDLUu-6Xa"
      },
      "execution_count": 106,
      "outputs": []
    },
    {
      "cell_type": "markdown",
      "source": [
        "В pytorch этот датасет скачивается с размерами 3, 32, 32. Для отображения нужно переставить каналы цвета в конец и перевести в numpy."
      ],
      "metadata": {
        "id": "1WLiYiqEsSdW"
      }
    },
    {
      "cell_type": "code",
      "source": [
        "image, label = train_dataset[4]\n",
        "print(image.size())\n",
        "print(label)"
      ],
      "metadata": {
        "colab": {
          "base_uri": "https://localhost:8080/"
        },
        "id": "MbyVteMahYWw",
        "outputId": "e182d3ee-9a98-4a09-f5f0-57af6220445d"
      },
      "execution_count": 107,
      "outputs": [
        {
          "output_type": "stream",
          "name": "stdout",
          "text": [
            "torch.Size([3, 32, 32])\n",
            "1\n"
          ]
        }
      ]
    },
    {
      "cell_type": "code",
      "source": [
        "plt.imshow(image.permute(1, 2, 0).numpy());"
      ],
      "metadata": {
        "colab": {
          "base_uri": "https://localhost:8080/",
          "height": 266
        },
        "id": "anqn1k_Sm1S8",
        "outputId": "491c73c0-3eaa-416e-9ac0-d6462332754f"
      },
      "execution_count": 108,
      "outputs": [
        {
          "output_type": "display_data",
          "data": {
            "text/plain": [
              "<Figure size 432x288 with 1 Axes>"
            ],
            "image/png": "[encoded data removed]"
          },
          "metadata": {
            "needs_background": "light"
          }
        }
      ]
    },
    {
      "cell_type": "code",
      "source": [
        "classes = ('plane', 'car', 'bird', 'cat',\n",
        "           'deer', 'dog', 'frog', 'horse', 'ship', 'truck')"
      ],
      "metadata": {
        "id": "IIwDbASxs6Kt"
      },
      "execution_count": 109,
      "outputs": []
    },
    {
      "cell_type": "markdown",
      "source": [
        "## Изначальный вариант: 4 слоя."
      ],
      "metadata": {
        "id": "tiEJfJh9tPQW"
      }
    },
    {
      "cell_type": "code",
      "source": [
        "import torch.nn.functional as F\n",
        "\n",
        "\n",
        "class Net(nn.Module):\n",
        "    def __init__(self, input_dim, hidden_dim, output_dim):\n",
        "        super().__init__()\n",
        "        self.fc1 = nn.Linear(input_dim, 4 * hidden_dim)\n",
        "        self.fc2 = nn.Linear(4 * hidden_dim, 2 * hidden_dim)\n",
        "        self.fc3 = nn.Linear(2 * hidden_dim, hidden_dim)\n",
        "        self.fc4 = nn.Linear(hidden_dim, output_dim)\n",
        "\n",
        "    def forward(self, x):\n",
        "        x = x.view(x.shape[0], -1)\n",
        "        x = self.fc1(x)\n",
        "        x = F.leaky_relu(x)\n",
        "        x = self.fc2(x)\n",
        "        x = F.leaky_relu(x)\n",
        "        x = self.fc3(x)\n",
        "        x = F.leaky_relu(x)\n",
        "        x = self.fc4(x)\n",
        "        return x\n",
        "    \n",
        "    def predict(self, x):\n",
        "        x = x.view(x.shape[0], -1)\n",
        "        x = self.fc1(x)\n",
        "        x = F.leaky_relu(x)\n",
        "        x = self.fc2(x)\n",
        "        x = F.leaky_relu(x)\n",
        "        x = self.fc3(x)\n",
        "        x = F.leaky_relu(x)\n",
        "        x = self.fc4(x)\n",
        "        x = F.softmax(x)\n",
        "        return x\n",
        "\n",
        "\n",
        "net = Net(3072, 100, 10)\n",
        "net.train()"
      ],
      "metadata": {
        "colab": {
          "base_uri": "https://localhost:8080/"
        },
        "id": "jHjbCtnIs-ol",
        "outputId": "82e43ed8-127c-4c87-d635-254a520781cc"
      },
      "execution_count": 110,
      "outputs": [
        {
          "output_type": "execute_result",
          "data": {
            "text/plain": [
              "Net(\n",
              "  (fc1): Linear(in_features=3072, out_features=400, bias=True)\n",
              "  (fc2): Linear(in_features=400, out_features=200, bias=True)\n",
              "  (fc3): Linear(in_features=200, out_features=100, bias=True)\n",
              "  (fc4): Linear(in_features=100, out_features=10, bias=True)\n",
              ")"
            ]
          },
          "metadata": {},
          "execution_count": 110
        }
      ]
    },
    {
      "cell_type": "code",
      "source": [
        "criterion = nn.CrossEntropyLoss()\n",
        "optimizer = optim.SGD(net.parameters(), lr=0.01, momentum=0.0)"
      ],
      "metadata": {
        "id": "tpaNwDlpnJPp"
      },
      "execution_count": 111,
      "outputs": []
    },
    {
      "cell_type": "code",
      "source": [
        "num_epochs = 1\n",
        "\n",
        "for epoch in range(num_epochs):\n",
        "    running_loss = 0.0\n",
        "    running_items = 0.0\n",
        "\n",
        "\n",
        "    for i, data in enumerate(train_loader):\n",
        "        inputs, labels = data[0], data[1]\n",
        "\n",
        "        # Обнуляем градиент\n",
        "        optimizer.zero_grad()\n",
        "        # Делаем предсказание\n",
        "        outputs = net(inputs)\n",
        "        # Рассчитываем лосс-функцию\n",
        "        loss = criterion(outputs, labels)\n",
        "        # Делаем шаг назад по лоссу\n",
        "        loss.backward()\n",
        "        # Делаем шаг нашего оптимайзера\n",
        "        optimizer.step()\n",
        "\n",
        "        # выводим статистику о процессе обучения\n",
        "        running_loss += loss.item()\n",
        "        running_items += len(labels)\n",
        "        if i % 300 == 0:    # печатаем каждые 300 mini-batches\n",
        "            print(f'Epoch [{epoch + 1}/{num_epochs}]. ' \\\n",
        "                  f'Step [{i + 1}/{len(train_loader)}]. ' \\\n",
        "                  f'Loss: {running_loss / running_items:.3f}')\n",
        "            running_loss, running_items = 0.0, 0.0\n",
        "\n",
        "print('Training is finished!')"
      ],
      "metadata": {
        "colab": {
          "base_uri": "https://localhost:8080/"
        },
        "id": "tz7-qmSptMZW",
        "outputId": "107e92cb-d411-40f6-fbd8-064349541ca0"
      },
      "execution_count": 112,
      "outputs": [
        {
          "output_type": "stream",
          "name": "stdout",
          "text": [
            "Epoch [1/1]. Step [1/782]. Loss: 0.036\n",
            "Epoch [1/1]. Step [301/782]. Loss: 0.036\n",
            "Epoch [1/1]. Step [601/782]. Loss: 0.035\n",
            "Training is finished!\n"
          ]
        }
      ]
    },
    {
      "cell_type": "code",
      "source": [
        "data_iter = iter(test_loader)\n",
        "# images, labels = data_iter.next()\n",
        "images, labels = next(data_iter)"
      ],
      "metadata": {
        "id": "ueGmjQabGsUV"
      },
      "execution_count": 113,
      "outputs": []
    },
    {
      "cell_type": "code",
      "source": [
        "net.eval()\n",
        "outputs = net(images)\n",
        "\n",
        "_, predicted = torch.max(outputs, 1)\n",
        "gt = np.array([classes[labels[j]] for j in range(len(labels))])\n",
        "pred = np.array([classes[predicted[j]] for j in range(len(labels))])\n",
        "\n",
        "print(gt)\n",
        "print(pred)\n",
        "print(f'Accuracy is {(gt == pred).sum() / len(gt)}')"
      ],
      "metadata": {
        "colab": {
          "base_uri": "https://localhost:8080/"
        },
        "id": "To8kl_nM1nxQ",
        "outputId": "7da9a8c9-51ee-460f-bb86-1acd9fd9e2e5"
      },
      "execution_count": 114,
      "outputs": [
        {
          "output_type": "stream",
          "name": "stdout",
          "text": [
            "['cat' 'ship' 'ship' 'plane' 'frog' 'frog' 'car' 'frog']\n",
            "['plane' 'ship' 'ship' 'ship' 'dog' 'dog' 'dog' 'dog']\n",
            "Accuracy is 0.25\n"
          ]
        }
      ]
    },
    {
      "cell_type": "markdown",
      "source": [
        "## Зависимость от количества эпох"
      ],
      "metadata": {
        "id": "-Cb6vEyEhuxY"
      }
    },
    {
      "cell_type": "code",
      "source": [
        "res_dict={}\n",
        "\n",
        "optimizer.zero_grad()\n",
        "\n",
        "def training(n_epochs=5, visual=False):\n",
        "  num_epochs = n_epochs\n",
        "\n",
        "  for epoch in range(num_epochs):\n",
        "    running_loss = 0.0\n",
        "    running_items = 0.0\n",
        "    print(f'Epoch {epoch} started')\n",
        "\n",
        "    for i, data in enumerate(train_loader):\n",
        "        inputs, labels = data[0], data[1]\n",
        "\n",
        "        # Обнуляем градиент\n",
        "        optimizer.zero_grad()\n",
        "        # Делаем предсказание\n",
        "        outputs = net(inputs)\n",
        "        # Рассчитываем лосс-функцию\n",
        "        loss = criterion(outputs, labels)\n",
        "        # Делаем шаг назад по лоссу\n",
        "        loss.backward()\n",
        "        # Делаем шаг нашего оптимайзера\n",
        "        optimizer.step()\n",
        "\n",
        "        # # выводим статистику о процессе обучения\n",
        "        # running_loss += loss.item()\n",
        "        # running_items += len(labels)\n",
        "        # if i % 300 == 0:    # печатаем каждые 300 mini-batches\n",
        "        #     print(f'Epoch [{epoch + 1}/{num_epochs}]. ' \\\n",
        "        #           f'Step [{i + 1}/{len(train_loader)}]. ' \\\n",
        "        #           f'Loss: {running_loss / running_items:.3f}')\n",
        "        #     running_loss, running_items = 0.0, 0.0\n",
        "        \n",
        "    data_iter = iter(test_loader)\n",
        "    # images, labels = data_iter.next()\n",
        "    images, labels = next(data_iter)\n",
        "\n",
        "    net.eval()\n",
        "    outputs = net(images)\n",
        "\n",
        "    _, predicted = torch.max(outputs, 1)\n",
        "    gt = np.array([classes[labels[j]] for j in range(len(labels))])\n",
        "    pred = np.array([classes[predicted[j]] for j in range(len(labels))])\n",
        "\n",
        "    if visual:\n",
        "      print(gt)\n",
        "      print(pred)\n",
        "    print(f'Accuracy is {(gt == pred).sum() / len(gt)}')\n",
        "    print('---------------')\n",
        "\n",
        "    res_dict[epoch] = ((gt == pred).sum() / len(gt))\n",
        "  print('---------------')\n",
        "  print('Training is finished!')  "
      ],
      "metadata": {
        "id": "jHsqYAqO2E8X"
      },
      "execution_count": 115,
      "outputs": []
    },
    {
      "cell_type": "code",
      "source": [
        "training(20, visual=True)"
      ],
      "metadata": {
        "colab": {
          "base_uri": "https://localhost:8080/"
        },
        "id": "1_aoGY3L3bNP",
        "outputId": "44f2fd1b-14a0-46d1-e7db-eea9e83d5de2"
      },
      "execution_count": 116,
      "outputs": [
        {
          "output_type": "stream",
          "name": "stdout",
          "text": [
            "Epoch 0 started\n",
            "['cat' 'ship' 'ship' 'plane' 'frog' 'frog' 'car' 'frog']\n",
            "['dog' 'ship' 'ship' 'ship' 'dog' 'frog' 'dog' 'frog']\n",
            "Accuracy is 0.5\n",
            "---------------\n",
            "Epoch 1 started\n",
            "['cat' 'ship' 'ship' 'plane' 'frog' 'frog' 'car' 'frog']\n",
            "['dog' 'truck' 'ship' 'ship' 'dog' 'frog' 'dog' 'deer']\n",
            "Accuracy is 0.25\n",
            "---------------\n",
            "Epoch 2 started\n",
            "['cat' 'ship' 'ship' 'plane' 'frog' 'frog' 'car' 'frog']\n",
            "['dog' 'ship' 'ship' 'ship' 'deer' 'frog' 'dog' 'deer']\n",
            "Accuracy is 0.375\n",
            "---------------\n",
            "Epoch 3 started\n",
            "['cat' 'ship' 'ship' 'plane' 'frog' 'frog' 'car' 'frog']\n",
            "['dog' 'truck' 'ship' 'ship' 'deer' 'frog' 'dog' 'deer']\n",
            "Accuracy is 0.25\n",
            "---------------\n",
            "Epoch 4 started\n",
            "['cat' 'ship' 'ship' 'plane' 'frog' 'frog' 'car' 'frog']\n",
            "['dog' 'ship' 'ship' 'ship' 'bird' 'frog' 'dog' 'bird']\n",
            "Accuracy is 0.375\n",
            "---------------\n",
            "Epoch 5 started\n",
            "['cat' 'ship' 'ship' 'plane' 'frog' 'frog' 'car' 'frog']\n",
            "['cat' 'ship' 'ship' 'ship' 'deer' 'frog' 'cat' 'deer']\n",
            "Accuracy is 0.5\n",
            "---------------\n",
            "Epoch 6 started\n",
            "['cat' 'ship' 'ship' 'plane' 'frog' 'frog' 'car' 'frog']\n",
            "['ship' 'ship' 'ship' 'ship' 'deer' 'frog' 'cat' 'bird']\n",
            "Accuracy is 0.375\n",
            "---------------\n",
            "Epoch 7 started\n",
            "['cat' 'ship' 'ship' 'plane' 'frog' 'frog' 'car' 'frog']\n",
            "['cat' 'ship' 'ship' 'ship' 'deer' 'frog' 'cat' 'bird']\n",
            "Accuracy is 0.5\n",
            "---------------\n",
            "Epoch 8 started\n",
            "['cat' 'ship' 'ship' 'plane' 'frog' 'frog' 'car' 'frog']\n",
            "['cat' 'car' 'ship' 'ship' 'deer' 'frog' 'cat' 'frog']\n",
            "Accuracy is 0.5\n",
            "---------------\n",
            "Epoch 9 started\n",
            "['cat' 'ship' 'ship' 'plane' 'frog' 'frog' 'car' 'frog']\n",
            "['cat' 'truck' 'plane' 'plane' 'deer' 'frog' 'cat' 'deer']\n",
            "Accuracy is 0.375\n",
            "---------------\n",
            "Epoch 10 started\n",
            "['cat' 'ship' 'ship' 'plane' 'frog' 'frog' 'car' 'frog']\n",
            "['cat' 'truck' 'ship' 'plane' 'deer' 'frog' 'cat' 'bird']\n",
            "Accuracy is 0.5\n",
            "---------------\n",
            "Epoch 11 started\n",
            "['cat' 'ship' 'ship' 'plane' 'frog' 'frog' 'car' 'frog']\n",
            "['cat' 'ship' 'ship' 'ship' 'deer' 'frog' 'dog' 'frog']\n",
            "Accuracy is 0.625\n",
            "---------------\n",
            "Epoch 12 started\n",
            "['cat' 'ship' 'ship' 'plane' 'frog' 'frog' 'car' 'frog']\n",
            "['cat' 'truck' 'plane' 'plane' 'deer' 'frog' 'cat' 'bird']\n",
            "Accuracy is 0.375\n",
            "---------------\n",
            "Epoch 13 started\n",
            "['cat' 'ship' 'ship' 'plane' 'frog' 'frog' 'car' 'frog']\n",
            "['cat' 'truck' 'ship' 'plane' 'deer' 'frog' 'cat' 'frog']\n",
            "Accuracy is 0.625\n",
            "---------------\n",
            "Epoch 14 started\n",
            "['cat' 'ship' 'ship' 'plane' 'frog' 'frog' 'car' 'frog']\n",
            "['cat' 'ship' 'ship' 'ship' 'deer' 'frog' 'dog' 'bird']\n",
            "Accuracy is 0.5\n",
            "---------------\n",
            "Epoch 15 started\n",
            "['cat' 'ship' 'ship' 'plane' 'frog' 'frog' 'car' 'frog']\n",
            "['cat' 'ship' 'ship' 'ship' 'deer' 'frog' 'cat' 'frog']\n",
            "Accuracy is 0.625\n",
            "---------------\n",
            "Epoch 16 started\n",
            "['cat' 'ship' 'ship' 'plane' 'frog' 'frog' 'car' 'frog']\n",
            "['cat' 'ship' 'ship' 'plane' 'deer' 'frog' 'cat' 'frog']\n",
            "Accuracy is 0.75\n",
            "---------------\n",
            "Epoch 17 started\n",
            "['cat' 'ship' 'ship' 'plane' 'frog' 'frog' 'car' 'frog']\n",
            "['car' 'car' 'ship' 'car' 'deer' 'frog' 'car' 'frog']\n",
            "Accuracy is 0.5\n",
            "---------------\n",
            "Epoch 18 started\n",
            "['cat' 'ship' 'ship' 'plane' 'frog' 'frog' 'car' 'frog']\n",
            "['cat' 'truck' 'ship' 'plane' 'deer' 'frog' 'cat' 'bird']\n",
            "Accuracy is 0.5\n",
            "---------------\n",
            "Epoch 19 started\n",
            "['cat' 'ship' 'ship' 'plane' 'frog' 'frog' 'car' 'frog']\n",
            "['cat' 'truck' 'ship' 'ship' 'frog' 'frog' 'cat' 'frog']\n",
            "Accuracy is 0.625\n",
            "---------------\n",
            "---------------\n",
            "Training is finished!\n"
          ]
        }
      ]
    },
    {
      "cell_type": "code",
      "source": [
        "names = list(res_dict.keys())\n",
        "values = list(res_dict.values())\n",
        "\n",
        "# x = np.linspace(1, 20, 20)\n",
        "\n",
        "plt.figure(figsize=(10, 8))\n",
        "plt.plot(range(len(res_dict)), values)\n",
        "# plt.scatter(x, values)\n",
        "plt.grid()\n",
        "plt.xlabel('№ epoch')\n",
        "plt.ylabel('Accuracy')\n",
        "plt.title('Accuracy в зависимости от количества эпох')\n",
        "plt.show()"
      ],
      "metadata": {
        "colab": {
          "base_uri": "https://localhost:8080/",
          "height": 513
        },
        "id": "5hikczjg1Wy4",
        "outputId": "bdc51f6c-ee21-41bc-d435-b5f5b8255242"
      },
      "execution_count": 117,
      "outputs": [
        {
          "output_type": "display_data",
          "data": {
            "text/plain": [
              "<Figure size 720x576 with 1 Axes>"
            ],
            "image/png": "[encoded data removed]"
          },
          "metadata": {
            "needs_background": "light"
          }
        }
      ]
    },
    {
      "cell_type": "markdown",
      "source": [
        "В зависимости от эпохи мы можем получить значения как лучше, так и хуже требуемых 0,625 по accuracy. Даже с изначальной моделью."
      ],
      "metadata": {
        "id": "HHir17CIN9kH"
      }
    },
    {
      "cell_type": "markdown",
      "source": [
        "## Зависимость от lr"
      ],
      "metadata": {
        "id": "nZ8C8fJGTO80"
      }
    },
    {
      "cell_type": "code",
      "source": [
        "lst_lr = [0.1, 0.01, 0.001, 0.0001, 0.00001, 0.000001, 0.0000001, 0.00000001]"
      ],
      "metadata": {
        "id": "lBBs8R4vVoBy"
      },
      "execution_count": 118,
      "outputs": []
    },
    {
      "cell_type": "code",
      "source": [
        "num_epochs = 6\n",
        "res_dict_lr={}\n",
        "\n",
        "optimizer.zero_grad()\n",
        "\n",
        "for lear in lst_lr:\n",
        "  criterion = nn.CrossEntropyLoss()\n",
        "  optimizer = optim.SGD(net.parameters(), lr=lear, momentum=0.0)\n",
        "\n",
        "  print(f'Learning rate - {lear}')\n",
        "\n",
        "  for epoch in range(num_epochs):\n",
        "    running_loss = 0.0\n",
        "    running_items = 0.0\n",
        "\n",
        "    for i, data in enumerate(train_loader):\n",
        "        inputs, labels = data[0], data[1]\n",
        "\n",
        "        # Обнуляем градиент\n",
        "        optimizer.zero_grad()\n",
        "        # Делаем предсказание\n",
        "        outputs = net(inputs)\n",
        "        # Рассчитываем лосс-функцию\n",
        "        loss = criterion(outputs, labels)\n",
        "        # Делаем шаг назад по лоссу\n",
        "        loss.backward()\n",
        "        # Делаем шаг нашего оптимайзера\n",
        "        optimizer.step()\n",
        "\n",
        "        # # выводим статистику о процессе обучения\n",
        "        # running_loss += loss.item()\n",
        "        # running_items += len(labels)\n",
        "        # if i % 300 == 0:    # печатаем каждые 300 mini-batches\n",
        "        #     print(f'Epoch [{epoch + 1}/{num_epochs}]. ' \\\n",
        "        #           f'Step [{i + 1}/{len(train_loader)}]. ' \\\n",
        "        #           f'Loss: {running_loss / running_items:.3f}')\n",
        "        #     running_loss, running_items = 0.0, 0.0\n",
        "\n",
        "  data_iter = iter(test_loader)\n",
        "  # images, labels = data_iter.next()\n",
        "  images, labels = next(data_iter)\n",
        "  \n",
        "  net.eval()\n",
        "  outputs = net(images)\n",
        "\n",
        "  _, predicted = torch.max(outputs, 1)\n",
        "  gt = np.array([classes[labels[j]] for j in range(len(labels))])\n",
        "  pred = np.array([classes[predicted[j]] for j in range(len(labels))])\n",
        "\n",
        "  print(gt)\n",
        "  print(pred)\n",
        "  print(f'Accuracy is {(gt == pred).sum() / len(gt)}')\n",
        "  print('---------------')\n",
        "\n",
        "  res_dict_lr[lear] = ((gt == pred).sum() / len(gt))\n",
        "  # print('---------------')\n",
        "print('Training is finished!')  "
      ],
      "metadata": {
        "colab": {
          "base_uri": "https://localhost:8080/"
        },
        "id": "U4dI1JyiV3eg",
        "outputId": "7aa3851c-b270-4b7e-fcde-ff19c6582747"
      },
      "execution_count": 119,
      "outputs": [
        {
          "output_type": "stream",
          "name": "stdout",
          "text": [
            "Learning rate - 0.1\n",
            "['cat' 'ship' 'ship' 'plane' 'frog' 'frog' 'car' 'frog']\n",
            "['dog' 'ship' 'ship' 'ship' 'deer' 'frog' 'dog' 'frog']\n",
            "Accuracy is 0.5\n",
            "---------------\n",
            "Learning rate - 0.01\n",
            "['cat' 'ship' 'ship' 'plane' 'frog' 'frog' 'car' 'frog']\n",
            "['cat' 'ship' 'plane' 'plane' 'deer' 'frog' 'cat' 'frog']\n",
            "Accuracy is 0.625\n",
            "---------------\n",
            "Learning rate - 0.001\n",
            "['cat' 'ship' 'ship' 'plane' 'frog' 'frog' 'car' 'frog']\n",
            "['cat' 'ship' 'plane' 'plane' 'deer' 'frog' 'cat' 'frog']\n",
            "Accuracy is 0.625\n",
            "---------------\n",
            "Learning rate - 0.0001\n",
            "['cat' 'ship' 'ship' 'plane' 'frog' 'frog' 'car' 'frog']\n",
            "['cat' 'ship' 'plane' 'plane' 'deer' 'frog' 'cat' 'frog']\n",
            "Accuracy is 0.625\n",
            "---------------\n",
            "Learning rate - 1e-05\n",
            "['cat' 'ship' 'ship' 'plane' 'frog' 'frog' 'car' 'frog']\n",
            "['cat' 'ship' 'plane' 'plane' 'deer' 'frog' 'cat' 'frog']\n",
            "Accuracy is 0.625\n",
            "---------------\n",
            "Learning rate - 1e-06\n",
            "['cat' 'ship' 'ship' 'plane' 'frog' 'frog' 'car' 'frog']\n",
            "['cat' 'ship' 'plane' 'plane' 'deer' 'frog' 'cat' 'frog']\n",
            "Accuracy is 0.625\n",
            "---------------\n",
            "Learning rate - 1e-07\n",
            "['cat' 'ship' 'ship' 'plane' 'frog' 'frog' 'car' 'frog']\n",
            "['cat' 'ship' 'plane' 'plane' 'deer' 'frog' 'cat' 'frog']\n",
            "Accuracy is 0.625\n",
            "---------------\n",
            "Learning rate - 1e-08\n",
            "['cat' 'ship' 'ship' 'plane' 'frog' 'frog' 'car' 'frog']\n",
            "['cat' 'ship' 'plane' 'plane' 'deer' 'frog' 'cat' 'frog']\n",
            "Accuracy is 0.625\n",
            "---------------\n",
            "Training is finished!\n"
          ]
        }
      ]
    },
    {
      "cell_type": "code",
      "source": [
        "names = list(res_dict_lr.keys())\n",
        "values = list(res_dict_lr.values())\n",
        "\n",
        "# x = np.linspace(1, 20, 20)\n",
        "\n",
        "plt.figure(figsize=(10, 8))\n",
        "plt.plot(range(len(res_dict_lr)), values)\n",
        "# plt.scatter(x, values)\n",
        "plt.grid()\n",
        "plt.xlabel('Learning rate 10^(-x)')\n",
        "plt.ylabel('Accuracy')\n",
        "plt.title('Accuracy в зависимости шага обучения')\n",
        "plt.show()"
      ],
      "metadata": {
        "colab": {
          "base_uri": "https://localhost:8080/",
          "height": 513
        },
        "id": "_mQH_WNSMEdA",
        "outputId": "69740def-8480-4293-82f2-e85e40ff7390"
      },
      "execution_count": 120,
      "outputs": [
        {
          "output_type": "display_data",
          "data": {
            "text/plain": [
              "<Figure size 720x576 with 1 Axes>"
            ],
            "image/png": "[encoded data removed]"
          },
          "metadata": {
            "needs_background": "light"
          }
        }
      ]
    },
    {
      "cell_type": "code",
      "source": [
        "names"
      ],
      "metadata": {
        "colab": {
          "base_uri": "https://localhost:8080/"
        },
        "id": "OUkdJ0mnZ4wk",
        "outputId": "9929e237-597f-4581-efe9-77d6c984267e"
      },
      "execution_count": null,
      "outputs": [
        {
          "output_type": "execute_result",
          "data": {
            "text/plain": [
              "[0.1, 0.01, 0.001, 0.0001, 1e-05, 1e-06, 1e-07, 1e-08]"
            ]
          },
          "metadata": {},
          "execution_count": 72
        }
      ]
    },
    {
      "cell_type": "markdown",
      "source": [
        "С уменьшением шага растёт точность предсказаний, но при этом выходит на насыщение. Лучшим значением оказался 0,0001"
      ],
      "metadata": {
        "id": "WycHRlfYZfHj"
      }
    },
    {
      "cell_type": "markdown",
      "source": [
        "## Зависимость от оптимизатора"
      ],
      "metadata": {
        "id": "pPDStJ1BVQJT"
      }
    },
    {
      "cell_type": "code",
      "source": [
        "# optimiz = ['SGD', 'Adagrad', 'Nadam']"
      ],
      "metadata": {
        "id": "0gXam5HJVT2s"
      },
      "execution_count": 130,
      "outputs": []
    },
    {
      "cell_type": "code",
      "source": [
        "# optimiz[0].replace('\"', '')"
      ],
      "metadata": {
        "id": "nqc6atFWgRru"
      },
      "execution_count": 136,
      "outputs": []
    },
    {
      "cell_type": "code",
      "source": [
        "criterion = nn.CrossEntropyLoss()\n",
        "optimizer = optim.SGD(net.parameters(), lr=0.0001, momentum=0.0)"
      ],
      "metadata": {
        "id": "oiV_5xXxZnqJ"
      },
      "execution_count": 146,
      "outputs": []
    },
    {
      "cell_type": "code",
      "source": [
        "res_dict={}\n",
        "\n",
        "optimizer.zero_grad()\n",
        "\n",
        "num_epochs = 5\n",
        "\n",
        "for epoch in range(num_epochs):\n",
        "    running_loss = 0.0\n",
        "    running_items = 0.0\n",
        "    print(f'Epoch {epoch} started')\n",
        "\n",
        "    for i, data in enumerate(train_loader):\n",
        "        inputs, labels = data[0], data[1]\n",
        "\n",
        "        # Обнуляем градиент\n",
        "        optimizer.zero_grad()\n",
        "        # Делаем предсказание\n",
        "        outputs = net(inputs)\n",
        "        # Рассчитываем лосс-функцию\n",
        "        loss = criterion(outputs, labels)\n",
        "        # Делаем шаг назад по лоссу\n",
        "        loss.backward()\n",
        "        # Делаем шаг нашего оптимайзера\n",
        "        optimizer.step()\n",
        "\n",
        "        # # выводим статистику о процессе обучения\n",
        "        # running_loss += loss.item()\n",
        "        # running_items += len(labels)\n",
        "        # if i % 300 == 0:    # печатаем каждые 300 mini-batches\n",
        "        #     print(f'Epoch [{epoch + 1}/{num_epochs}]. ' \\\n",
        "        #           f'Step [{i + 1}/{len(train_loader)}]. ' \\\n",
        "        #           f'Loss: {running_loss / running_items:.3f}')\n",
        "        #     running_loss, running_items = 0.0, 0.0\n",
        "        \n",
        "    data_iter = iter(test_loader)\n",
        "    # images, labels = data_iter.next()\n",
        "    images, labels = next(data_iter)\n",
        "\n",
        "    net.eval()\n",
        "    outputs = net(images)\n",
        "\n",
        "    _, predicted = torch.max(outputs, 1)\n",
        "    gt = np.array([classes[labels[j]] for j in range(len(labels))])\n",
        "    pred = np.array([classes[predicted[j]] for j in range(len(labels))])\n",
        "\n",
        "   \n",
        "    print(gt)\n",
        "    print(pred)\n",
        "    print(f'Accuracy is {(gt == pred).sum() / len(gt)}')\n",
        "    print('---------------')\n",
        "\n",
        "print('---------------')\n",
        "print('Training is finished!')  "
      ],
      "metadata": {
        "colab": {
          "base_uri": "https://localhost:8080/"
        },
        "id": "VeukOLqIZFXK",
        "outputId": "41c94044-0870-47a4-f933-799b7832dad2"
      },
      "execution_count": 147,
      "outputs": [
        {
          "output_type": "stream",
          "name": "stdout",
          "text": [
            "Epoch 0 started\n",
            "['cat' 'ship' 'ship' 'plane' 'frog' 'frog' 'car' 'frog']\n",
            "['cat' 'ship' 'plane' 'plane' 'frog' 'frog' 'cat' 'frog']\n",
            "Accuracy is 0.75\n",
            "---------------\n",
            "Epoch 1 started\n",
            "['cat' 'ship' 'ship' 'plane' 'frog' 'frog' 'car' 'frog']\n",
            "['cat' 'ship' 'plane' 'plane' 'frog' 'frog' 'cat' 'frog']\n",
            "Accuracy is 0.75\n",
            "---------------\n",
            "Epoch 2 started\n",
            "['cat' 'ship' 'ship' 'plane' 'frog' 'frog' 'car' 'frog']\n",
            "['cat' 'ship' 'plane' 'plane' 'frog' 'frog' 'cat' 'frog']\n",
            "Accuracy is 0.75\n",
            "---------------\n",
            "Epoch 3 started\n",
            "['cat' 'ship' 'ship' 'plane' 'frog' 'frog' 'car' 'frog']\n",
            "['cat' 'ship' 'plane' 'plane' 'frog' 'frog' 'cat' 'frog']\n",
            "Accuracy is 0.75\n",
            "---------------\n",
            "Epoch 4 started\n",
            "['cat' 'ship' 'ship' 'plane' 'frog' 'frog' 'car' 'frog']\n",
            "['cat' 'ship' 'plane' 'plane' 'frog' 'frog' 'cat' 'frog']\n",
            "Accuracy is 0.75\n",
            "---------------\n",
            "---------------\n",
            "Training is finished!\n"
          ]
        }
      ]
    },
    {
      "cell_type": "markdown",
      "source": [
        "Adagrad"
      ],
      "metadata": {
        "id": "1ThI2RKFh7WD"
      }
    },
    {
      "cell_type": "code",
      "source": [
        "criterion = nn.CrossEntropyLoss()\n",
        "optimizer = optim.Adagrad(net.parameters(), lr=0.0001)"
      ],
      "metadata": {
        "id": "m1dai6mph9Sq"
      },
      "execution_count": 148,
      "outputs": []
    },
    {
      "cell_type": "code",
      "source": [
        "optimizer.zero_grad()\n",
        "\n",
        "num_epochs = 5\n",
        "\n",
        "for epoch in range(num_epochs):\n",
        "    running_loss = 0.0\n",
        "    running_items = 0.0\n",
        "    print(f'Epoch {epoch} started')\n",
        "\n",
        "    for i, data in enumerate(train_loader):\n",
        "        inputs, labels = data[0], data[1]\n",
        "\n",
        "        # Обнуляем градиент\n",
        "        optimizer.zero_grad()\n",
        "        # Делаем предсказание\n",
        "        outputs = net(inputs)\n",
        "        # Рассчитываем лосс-функцию\n",
        "        loss = criterion(outputs, labels)\n",
        "        # Делаем шаг назад по лоссу\n",
        "        loss.backward()\n",
        "        # Делаем шаг нашего оптимайзера\n",
        "        optimizer.step()\n",
        "                \n",
        "    data_iter = iter(test_loader)\n",
        "    # images, labels = data_iter.next()\n",
        "    images, labels = next(data_iter)\n",
        "\n",
        "    net.eval()\n",
        "    outputs = net(images)\n",
        "\n",
        "    _, predicted = torch.max(outputs, 1)\n",
        "    gt = np.array([classes[labels[j]] for j in range(len(labels))])\n",
        "    pred = np.array([classes[predicted[j]] for j in range(len(labels))])\n",
        "\n",
        "    print(f'Accuracy is {(gt == pred).sum() / len(gt)}')\n",
        "    print('---------------')\n",
        "\n",
        "print('---------------')\n",
        "print('Training is finished!')  "
      ],
      "metadata": {
        "colab": {
          "base_uri": "https://localhost:8080/"
        },
        "id": "iI_soU52lkcc",
        "outputId": "a0edb7c3-f6bf-4230-9560-161bee0da03a"
      },
      "execution_count": 149,
      "outputs": [
        {
          "output_type": "stream",
          "name": "stdout",
          "text": [
            "Epoch 0 started\n",
            "Accuracy is 0.75\n",
            "---------------\n",
            "Epoch 1 started\n",
            "Accuracy is 0.75\n",
            "---------------\n",
            "Epoch 2 started\n",
            "Accuracy is 0.625\n",
            "---------------\n",
            "Epoch 3 started\n",
            "Accuracy is 0.75\n",
            "---------------\n",
            "Epoch 4 started\n",
            "Accuracy is 0.75\n",
            "---------------\n",
            "---------------\n",
            "Training is finished!\n"
          ]
        }
      ]
    },
    {
      "cell_type": "markdown",
      "source": [
        "Nadam"
      ],
      "metadata": {
        "id": "1p88QaNslzmn"
      }
    },
    {
      "cell_type": "code",
      "source": [
        "criterion = nn.CrossEntropyLoss()\n",
        "optimizer = optim.NAdam(net.parameters(), lr=0.0001)"
      ],
      "metadata": {
        "id": "FAc0wh5rl2Bz"
      },
      "execution_count": 150,
      "outputs": []
    },
    {
      "cell_type": "code",
      "source": [
        "optimizer.zero_grad()\n",
        "\n",
        "num_epochs = 5\n",
        "\n",
        "for epoch in range(num_epochs):\n",
        "    running_loss = 0.0\n",
        "    running_items = 0.0\n",
        "    print(f'Epoch {epoch} started')\n",
        "\n",
        "    for i, data in enumerate(train_loader):\n",
        "        inputs, labels = data[0], data[1]\n",
        "\n",
        "        # Обнуляем градиент\n",
        "        optimizer.zero_grad()\n",
        "        # Делаем предсказание\n",
        "        outputs = net(inputs)\n",
        "        # Рассчитываем лосс-функцию\n",
        "        loss = criterion(outputs, labels)\n",
        "        # Делаем шаг назад по лоссу\n",
        "        loss.backward()\n",
        "        # Делаем шаг нашего оптимайзера\n",
        "        optimizer.step()\n",
        "                \n",
        "    data_iter = iter(test_loader)\n",
        "    # images, labels = data_iter.next()\n",
        "    images, labels = next(data_iter)\n",
        "\n",
        "    net.eval()\n",
        "    outputs = net(images)\n",
        "\n",
        "    _, predicted = torch.max(outputs, 1)\n",
        "    gt = np.array([classes[labels[j]] for j in range(len(labels))])\n",
        "    pred = np.array([classes[predicted[j]] for j in range(len(labels))])\n",
        "\n",
        "    print(f'Accuracy is {(gt == pred).sum() / len(gt)}')\n",
        "    print('---------------')\n",
        "\n",
        "print('---------------')\n",
        "print('Training is finished!')  "
      ],
      "metadata": {
        "colab": {
          "base_uri": "https://localhost:8080/"
        },
        "id": "VEVgUHr8l3nK",
        "outputId": "1b0ac6b0-f58e-48f6-f974-de5f27ab361a"
      },
      "execution_count": 151,
      "outputs": [
        {
          "output_type": "stream",
          "name": "stdout",
          "text": [
            "Epoch 0 started\n",
            "Accuracy is 0.75\n",
            "---------------\n",
            "Epoch 1 started\n",
            "Accuracy is 0.5\n",
            "---------------\n",
            "Epoch 2 started\n",
            "Accuracy is 0.5\n",
            "---------------\n",
            "Epoch 3 started\n",
            "Accuracy is 0.625\n",
            "---------------\n",
            "Epoch 4 started\n",
            "Accuracy is 0.75\n",
            "---------------\n",
            "---------------\n",
            "Training is finished!\n"
          ]
        }
      ]
    },
    {
      "cell_type": "markdown",
      "source": [
        "## Добавление двух слоёв и увеличение количества нейронов."
      ],
      "metadata": {
        "id": "UVRlDRWr72dn"
      }
    },
    {
      "cell_type": "markdown",
      "source": [
        "Добавим класс perceptron. B добавим 2 слоя и в этих слоях увеличим количество нейронов в графе обучения как степень двойки."
      ],
      "metadata": {
        "id": "LIZwl4vltqjU"
      }
    },
    {
      "cell_type": "code",
      "source": [
        "class Perceptron(nn.Module):\n",
        "    def __init__(self, input_dim, output_dim, activation=\"relu\"):\n",
        "        super(Perceptron, self).__init__()\n",
        "        self.fc = nn.Linear(input_dim, output_dim)\n",
        "        self.activation = activation\n",
        "        \n",
        "    def forward(self, x):\n",
        "        x = self.fc(x)\n",
        "        if self.activation == \"relu\":\n",
        "            return F.relu(x)\n",
        "        if self.activation == \"sigmoid\":\n",
        "            return torch.sigmoid(x)\n",
        "        if self.activation == \"elu\":\n",
        "            return F.elu(x)\n",
        "        if self.activation == \"tanh\":\n",
        "            return torch.tanh(x)\n",
        "        raise RuntimeError"
      ],
      "metadata": {
        "id": "ngaV5zIj7NdA"
      },
      "execution_count": 64,
      "outputs": []
    },
    {
      "cell_type": "code",
      "source": [
        "class Net8(nn.Module):\n",
        "    def __init__(self, input_dim, hidden_dim, output_dim):\n",
        "        super().__init__()\n",
        "        self.fc1 = Perceptron(input_dim, 16 * hidden_dim, 'sigmoid')\n",
        "        self.fc2 = Perceptron(16 * hidden_dim, 8 * hidden_dim, 'elu')\n",
        "        self.fc3 = Perceptron(8 * hidden_dim, 4 * hidden_dim, )\n",
        "        self.fc4 = Perceptron(4 * hidden_dim, 2 * hidden_dim)\n",
        "        self.fc5 = Perceptron(2 * hidden_dim, hidden_dim)\n",
        "        self.fc6 = Perceptron(hidden_dim, output_dim, 'elu')\n",
        "        \n",
        "    def forward(self, x):\n",
        "        x = x.view(x.shape[0], -1)\n",
        "        x = self.fc1(x)\n",
        "        x = self.fc2(x)\n",
        "        x = self.fc3(x)\n",
        "        x = self.fc4(x)\n",
        "        x = self.fc5(x)\n",
        "        x = self.fc6(x)\n",
        "        return x\n",
        "\n",
        "    def predict(self, x):\n",
        "        x = x.view(x.shape[0], -1)\n",
        "        x = self.fc1(x)\n",
        "        x = self.fc2(x)\n",
        "        x = self.fc3(x)\n",
        "        x = self.fc4(x)\n",
        "        x = self.fc5(x)\n",
        "        x = self.fc6(x)\n",
        "        x = F.softmax(x)\n",
        "        return x\n",
        "\n",
        "net8 = Net8(3072, 400, 10)\n",
        "net8.train()"
      ],
      "metadata": {
        "colab": {
          "base_uri": "https://localhost:8080/"
        },
        "id": "8jCLtstC7-A8",
        "outputId": "909e13f4-1323-47e7-ad21-8cc1047b3fbc"
      },
      "execution_count": 159,
      "outputs": [
        {
          "output_type": "execute_result",
          "data": {
            "text/plain": [
              "Net8(\n",
              "  (fc1): Perceptron(\n",
              "    (fc): Linear(in_features=3072, out_features=6400, bias=True)\n",
              "  )\n",
              "  (fc2): Perceptron(\n",
              "    (fc): Linear(in_features=6400, out_features=3200, bias=True)\n",
              "  )\n",
              "  (fc3): Perceptron(\n",
              "    (fc): Linear(in_features=3200, out_features=1600, bias=True)\n",
              "  )\n",
              "  (fc4): Perceptron(\n",
              "    (fc): Linear(in_features=1600, out_features=800, bias=True)\n",
              "  )\n",
              "  (fc5): Perceptron(\n",
              "    (fc): Linear(in_features=800, out_features=400, bias=True)\n",
              "  )\n",
              "  (fc6): Perceptron(\n",
              "    (fc): Linear(in_features=400, out_features=10, bias=True)\n",
              "  )\n",
              ")"
            ]
          },
          "metadata": {},
          "execution_count": 159
        }
      ]
    },
    {
      "cell_type": "code",
      "source": [
        "criterion = nn.CrossEntropyLoss()\n",
        "optimizer = optim.Adam(net8.parameters(), lr=0.0001)\n",
        "\n",
        "optimizer.zero_grad()\n",
        "\n",
        "num_epochs = 5\n",
        "\n",
        "for epoch in range(num_epochs):\n",
        "    running_loss = 0.0\n",
        "    running_items = 0.0\n",
        "\n",
        "\n",
        "    for i, data in enumerate(train_loader):\n",
        "        inputs, labels = data[0], data[1]\n",
        "\n",
        "         # Обнуляем градиент\n",
        "        optimizer.zero_grad()\n",
        "        # Делаем предсказание\n",
        "        outputs = ff(inputs)\n",
        "        # Рассчитываем лосс-функцию\n",
        "        loss = criterion(outputs, labels)\n",
        "        # Делаем шаг назад по лоссу\n",
        "        loss.backward()\n",
        "        # Делаем шаг нашего оптимайзера\n",
        "        optimizer.step()\n",
        "\n",
        "        # выводим статистику о процессе обучения\n",
        "        running_loss += loss.item()\n",
        "        running_items += len(labels)\n",
        "        if i % 300 == 0:    # печатаем каждые 300 mini-batches\n",
        "            print(f'Epoch [{epoch + 1}/{num_epochs}]. ' \\\n",
        "                  f'Step [{i + 1}/{len(train_loader)}]. ' \\\n",
        "                  f'Loss: {running_loss / running_items:.3f}')\n",
        "            running_loss, running_items = 0.0, 0.0\n",
        "\n",
        "print('Training is finished!')"
      ],
      "metadata": {
        "id": "VkJ8ZVmT8van",
        "colab": {
          "base_uri": "https://localhost:8080/"
        },
        "outputId": "4b5658cd-1a79-4cbf-a66f-f57523dcc3a8"
      },
      "execution_count": 160,
      "outputs": [
        {
          "output_type": "stream",
          "name": "stdout",
          "text": [
            "Epoch [1/3]. Step [1/782]. Loss: 0.021\n",
            "Epoch [1/3]. Step [301/782]. Loss: 0.023\n",
            "Epoch [1/3]. Step [601/782]. Loss: 0.023\n",
            "Epoch [2/3]. Step [1/782]. Loss: 0.022\n",
            "Epoch [2/3]. Step [301/782]. Loss: 0.023\n",
            "Epoch [2/3]. Step [601/782]. Loss: 0.023\n",
            "Epoch [3/3]. Step [1/782]. Loss: 0.021\n",
            "Epoch [3/3]. Step [301/782]. Loss: 0.023\n",
            "Epoch [3/3]. Step [601/782]. Loss: 0.023\n",
            "Training is finished!\n"
          ]
        }
      ]
    },
    {
      "cell_type": "code",
      "source": [
        "data_iter = iter(test_loader)\n",
        "# images, labels = data_iter.next()\n",
        "images, labels = next(data_iter)\n",
        "\n",
        "net8.eval()\n",
        "outputs = net(images)\n",
        "\n",
        "_, predicted = torch.max(outputs, 1)\n",
        "gt = np.array([classes[labels[j]] for j in range(len(labels))])\n",
        "pred = np.array([classes[predicted[j]] for j in range(len(labels))])\n",
        "\n",
        "print(f'Accuracy is {(gt == pred).sum() / len(gt)}')"
      ],
      "metadata": {
        "colab": {
          "base_uri": "https://localhost:8080/"
        },
        "id": "VMpZfBfMz5Od",
        "outputId": "6af27e5c-eadf-457f-cffe-950b6293a127"
      },
      "execution_count": 161,
      "outputs": [
        {
          "output_type": "stream",
          "name": "stdout",
          "text": [
            "Accuracy is 0.75\n"
          ]
        }
      ]
    },
    {
      "cell_type": "markdown",
      "source": [
        "Были также проверены различные варианты функций активации. Но вообще явных тенденций к сильному улучшению - не обнаружил. Вероятно требуется более большая выборка, чем 8 элементов, чтобы проследить явное улучшение, либо показать, что где-то допущена ошибка и явных улучшений не было. \n",
        "\n",
        "Почему-то часто при оптимизаторе SGD модель вообще переставала обучаться. И всегда выдавала один и тот же ответ, либо вообще одно и тоже значение для всех элементов."
      ],
      "metadata": {
        "id": "i21IZNNz0tHL"
      }
    }
  ]
}