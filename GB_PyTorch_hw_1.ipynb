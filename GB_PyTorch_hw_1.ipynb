{
  "nbformat": 4,
  "nbformat_minor": 0,
  "metadata": {
    "colab": {
      "provenance": [],
      "authorship_tag": "ABX9TyNnz4qxBbRF+Ne6vTxNyaQe",
      "include_colab_link": true
    },
    "kernelspec": {
      "name": "python3",
      "display_name": "Python 3"
    },
    "language_info": {
      "name": "python"
    }
  },
  "cells": [
    {
      "cell_type": "markdown",
      "metadata": {
        "id": "view-in-github",
        "colab_type": "text"
      },
      "source": [
        "<a href=\"https://colab.research.google.com/github/nedokormysh/GB_PyTorch/blob/lesson1/GB_PyTorch_hw_1.ipynb\" target=\"_parent\"><img src=\"https://colab.research.google.com/assets/colab-badge.svg\" alt=\"Open In Colab\"/></a>"
      ]
    },
    {
      "cell_type": "code",
      "source": [
        "import torch"
      ],
      "metadata": {
        "id": "etzf_mgJRDSs"
      },
      "execution_count": 1,
      "outputs": []
    },
    {
      "cell_type": "markdown",
      "source": [
        "# 1. Создайте случайный FloatTensor размера 3x4x5"
      ],
      "metadata": {
        "id": "pradHKMW5Zgq"
      }
    },
    {
      "cell_type": "code",
      "execution_count": 16,
      "metadata": {
        "colab": {
          "base_uri": "https://localhost:8080/"
        },
        "id": "3EMfwwDm10oa",
        "outputId": "6f52bc4d-2dce-4288-c551-c422554054bc"
      },
      "outputs": [
        {
          "output_type": "execute_result",
          "data": {
            "text/plain": [
              "tensor([[[ 0.2987,  1.0057,  0.3604, -1.1335,  0.7548],\n",
              "         [ 1.3940, -0.9088, -2.4047, -1.6099, -0.5704],\n",
              "         [ 0.2544,  1.5988, -0.8653, -0.4810, -1.5008],\n",
              "         [-0.8254,  0.4958, -0.7911,  2.2163, -0.2015]],\n",
              "\n",
              "        [[ 0.7171,  1.4209, -0.2432, -0.2605,  0.5415],\n",
              "         [ 0.8985,  1.5341,  0.5363, -0.2110, -0.3284],\n",
              "         [-0.0271, -2.4887,  0.4618, -0.7337,  0.3618],\n",
              "         [-2.1512,  0.4196,  0.0587,  0.4010,  0.5116]],\n",
              "\n",
              "        [[ 0.5428,  0.0757, -1.9655, -1.2713, -0.3388],\n",
              "         [ 1.8097, -0.4705,  0.9660,  1.0393, -0.0566],\n",
              "         [-0.9560,  0.0123,  0.5308, -0.9158,  0.7238],\n",
              "         [-1.4814, -0.6956,  0.3941, -0.2602,  0.6693]]])"
            ]
          },
          "metadata": {},
          "execution_count": 16
        }
      ],
      "source": [
        "# 1. Создайте случайный FloatTensor размера 3x4x5\n",
        "rndmtrch = torch.randn(3, 4, 5)\n",
        "rndmtrch"
      ]
    },
    {
      "cell_type": "code",
      "source": [
        "rndmtrch.type()"
      ],
      "metadata": {
        "colab": {
          "base_uri": "https://localhost:8080/",
          "height": 35
        },
        "id": "IaG1U-FhT6If",
        "outputId": "e345657a-fc72-41b1-88b7-455a95b0a6f4"
      },
      "execution_count": 28,
      "outputs": [
        {
          "output_type": "execute_result",
          "data": {
            "text/plain": [
              "'torch.FloatTensor'"
            ],
            "application/vnd.google.colaboratory.intrinsic+json": {
              "type": "string"
            }
          },
          "metadata": {},
          "execution_count": 28
        }
      ]
    },
    {
      "cell_type": "markdown",
      "source": [
        "# 2. Выведите его форму (shape)"
      ],
      "metadata": {
        "id": "SYXx8Fou5efr"
      }
    },
    {
      "cell_type": "code",
      "source": [
        "# 2. Выведите его форму (shape)\n",
        "rndmtrch.shape"
      ],
      "metadata": {
        "colab": {
          "base_uri": "https://localhost:8080/"
        },
        "id": "3Kg8T9uBSKky",
        "outputId": "d0d9cfaa-eeae-42f6-ae6c-0e2df6bcb858"
      },
      "execution_count": 20,
      "outputs": [
        {
          "output_type": "execute_result",
          "data": {
            "text/plain": [
              "torch.Size([3, 4, 5])"
            ]
          },
          "metadata": {},
          "execution_count": 20
        }
      ]
    },
    {
      "cell_type": "markdown",
      "source": [
        "# 3. Приведите его к форме 6х10"
      ],
      "metadata": {
        "id": "nkmFho2x5glL"
      }
    },
    {
      "cell_type": "code",
      "source": [
        "# 3. Приведите его к форме 6х10\n",
        "a = rndmtrch.reshape(6, 10)\n",
        "a.shape\n",
        "a"
      ],
      "metadata": {
        "colab": {
          "base_uri": "https://localhost:8080/"
        },
        "id": "TlOqUT4OSSgC",
        "outputId": "cdd243ca-e15c-4326-be14-c766f70984d0"
      },
      "execution_count": 39,
      "outputs": [
        {
          "output_type": "execute_result",
          "data": {
            "text/plain": [
              "tensor([[ 0.2987,  1.0057,  0.3604, -1.1335,  0.7548,  1.3940, -0.9088, -2.4047,\n",
              "         -1.6099, -0.5704],\n",
              "        [ 0.2544,  1.5988, -0.8653, -0.4810, -1.5008, -0.8254,  0.4958, -0.7911,\n",
              "          2.2163, -0.2015],\n",
              "        [ 0.7171,  1.4209, -0.2432, -0.2605,  0.5415,  0.8985,  1.5341,  0.5363,\n",
              "         -0.2110, -0.3284],\n",
              "        [-0.0271, -2.4887,  0.4618, -0.7337,  0.3618, -2.1512,  0.4196,  0.0587,\n",
              "          0.4010,  0.5116],\n",
              "        [ 0.5428,  0.0757, -1.9655, -1.2713, -0.3388,  1.8097, -0.4705,  0.9660,\n",
              "          1.0393, -0.0566],\n",
              "        [-0.9560,  0.0123,  0.5308, -0.9158,  0.7238, -1.4814, -0.6956,  0.3941,\n",
              "         -0.2602,  0.6693]])"
            ]
          },
          "metadata": {},
          "execution_count": 39
        }
      ]
    },
    {
      "cell_type": "markdown",
      "source": [
        "# 4. Создайте случайный IntTensor размера 10"
      ],
      "metadata": {
        "id": "ZZmlSQT25jQ0"
      }
    },
    {
      "cell_type": "code",
      "source": [
        "# 4. Создайте случайный IntTensor размера 10\n",
        "\n",
        "b = torch.randint(30, (10,)).type(torch.IntTensor)\n",
        "b"
      ],
      "metadata": {
        "colab": {
          "base_uri": "https://localhost:8080/"
        },
        "id": "MBClP3wqUNjO",
        "outputId": "890cc2fe-88e4-4de4-bf98-68c3f445318e"
      },
      "execution_count": 53,
      "outputs": [
        {
          "output_type": "execute_result",
          "data": {
            "text/plain": [
              "tensor([29, 22, 14,  6,  6, 16,  0, 21, 10,  8], dtype=torch.int32)"
            ]
          },
          "metadata": {},
          "execution_count": 53
        }
      ]
    },
    {
      "cell_type": "code",
      "source": [
        "b.type()"
      ],
      "metadata": {
        "colab": {
          "base_uri": "https://localhost:8080/",
          "height": 35
        },
        "id": "Pe2ccjwcdeOr",
        "outputId": "2fceceea-2249-4a69-a38f-b37d26828c0c"
      },
      "execution_count": 45,
      "outputs": [
        {
          "output_type": "execute_result",
          "data": {
            "text/plain": [
              "'torch.IntTensor'"
            ],
            "application/vnd.google.colaboratory.intrinsic+json": {
              "type": "string"
            }
          },
          "metadata": {},
          "execution_count": 45
        }
      ]
    },
    {
      "cell_type": "code",
      "source": [
        "b.shape"
      ],
      "metadata": {
        "colab": {
          "base_uri": "https://localhost:8080/"
        },
        "id": "hmDwurxkU5Ef",
        "outputId": "8b52aec3-abbd-44ca-dbef-1a6dd39c9e0b"
      },
      "execution_count": 46,
      "outputs": [
        {
          "output_type": "execute_result",
          "data": {
            "text/plain": [
              "torch.Size([10])"
            ]
          },
          "metadata": {},
          "execution_count": 46
        }
      ]
    },
    {
      "cell_type": "markdown",
      "source": [
        "# 5. Умножьте созданный FloatTensor на созданный IntTensor поэлементно"
      ],
      "metadata": {
        "id": "q8Wkr3WM5mUa"
      }
    },
    {
      "cell_type": "code",
      "source": [
        "# 5. Умножьте созданный FloatTensor на созданный IntTensor поэлементно\n",
        "\n",
        "d = a * b\n",
        "d"
      ],
      "metadata": {
        "colab": {
          "base_uri": "https://localhost:8080/"
        },
        "id": "e7L18XiQawxo",
        "outputId": "bab21b9d-a374-4c81-854a-39b7ed4074cb"
      },
      "execution_count": 68,
      "outputs": [
        {
          "output_type": "execute_result",
          "data": {
            "text/plain": [
              "tensor([[  8.6617,  22.1249,   5.0456,  -6.8009,   4.5290,  22.3042,  -0.0000,\n",
              "         -50.4995, -16.0989,  -4.5632],\n",
              "        [  7.3786,  35.1740, -12.1143,  -2.8858,  -9.0047, -13.2067,   0.0000,\n",
              "         -16.6127,  22.1628,  -1.6116],\n",
              "        [ 20.7960,  31.2601,  -3.4049,  -1.5629,   3.2487,  14.3758,   0.0000,\n",
              "          11.2627,  -2.1103,  -2.6271],\n",
              "        [ -0.7854, -54.7513,   6.4655,  -4.4023,   2.1706, -34.4196,   0.0000,\n",
              "           1.2321,   4.0104,   4.0926],\n",
              "        [ 15.7421,   1.6646, -27.5167,  -7.6279,  -2.0330,  28.9559,  -0.0000,\n",
              "          20.2852,  10.3929,  -0.4524],\n",
              "        [-27.7238,   0.2700,   7.4315,  -5.4950,   4.3427, -23.7026,  -0.0000,\n",
              "           8.2759,  -2.6017,   5.3544]])"
            ]
          },
          "metadata": {},
          "execution_count": 68
        }
      ]
    },
    {
      "cell_type": "markdown",
      "source": [
        "# 6. Умножьте тензор матрично на себя, чтобы результат был размерности 6x6\n",
        "# Подсказка: .dot может не подойти"
      ],
      "metadata": {
        "id": "AgpEpUHC5uWb"
      }
    },
    {
      "cell_type": "code",
      "source": [
        "# d.matmul(d.T)"
      ],
      "metadata": {
        "id": "6KnhrNM1fVto"
      },
      "execution_count": 111,
      "outputs": []
    },
    {
      "cell_type": "code",
      "source": [
        "# 6. Умножьте тензор матрично на себя, чтобы результат был размерности 6x6\n",
        "# Подсказка: .dot может не подойти\n",
        "\n",
        "c = a.matmul(a.T)\n",
        "c"
      ],
      "metadata": {
        "colab": {
          "base_uri": "https://localhost:8080/"
        },
        "id": "tjVKNvBVdyjt",
        "outputId": "f8c7b92c-28cf-4c75-a27e-e3a93789a407"
      },
      "execution_count": 75,
      "outputs": [
        {
          "output_type": "execute_result",
          "data": {
            "text/plain": [
              "tensor([[14.5540, -2.3676,  1.3552, -5.6985, -0.2983, -0.8411],\n",
              "        [-2.3676, 12.3588,  1.1704, -1.8525,  2.9033, -1.4740],\n",
              "        [ 1.3552,  1.1704,  6.5540, -4.7912,  2.3440, -2.5183],\n",
              "        [-5.6985, -1.8525, -4.7912, 12.3067, -3.9466,  4.3304],\n",
              "        [-0.2983,  2.9033,  2.3440, -3.9466, 11.4075, -2.9235],\n",
              "        [-0.8411, -1.4740, -2.5183,  4.3304, -2.9235,  5.9078]])"
            ]
          },
          "metadata": {},
          "execution_count": 75
        }
      ]
    },
    {
      "cell_type": "code",
      "source": [
        "c.size()"
      ],
      "metadata": {
        "colab": {
          "base_uri": "https://localhost:8080/"
        },
        "id": "CMCRyQysfBkN",
        "outputId": "792325e9-b651-4c00-9830-d757018cf2b7"
      },
      "execution_count": 76,
      "outputs": [
        {
          "output_type": "execute_result",
          "data": {
            "text/plain": [
              "torch.Size([6, 6])"
            ]
          },
          "metadata": {},
          "execution_count": 76
        }
      ]
    },
    {
      "cell_type": "markdown",
      "source": [
        "# 7. Посчитайте производную функции y = x**3 + z - 75t в точке (1, 0.5, 2)"
      ],
      "metadata": {
        "id": "2iXp__A2ihfO"
      }
    },
    {
      "cell_type": "code",
      "source": [
        "# 7. Посчитайте производную функции y = x**3 + z - 75t в точке (1, 0.5, 2)\n",
        "\n",
        "x = torch.tensor([1.], requires_grad=True)\n",
        "z = torch.tensor([0.5], requires_grad=True)\n",
        "t = torch.tensor([2.], requires_grad=True)\n",
        "\n",
        "y = x ** 3 + z - 75 * t\n",
        "y.backward()\n",
        "\n",
        "x.grad, z.grad, t.grad"
      ],
      "metadata": {
        "colab": {
          "base_uri": "https://localhost:8080/"
        },
        "id": "TGFIoihOgA66",
        "outputId": "7ec8afb1-6bdd-4c95-e578-916d5f97c547"
      },
      "execution_count": 77,
      "outputs": [
        {
          "output_type": "execute_result",
          "data": {
            "text/plain": [
              "(tensor([3.]), tensor([1.]), tensor([-75.]))"
            ]
          },
          "metadata": {},
          "execution_count": 77
        }
      ]
    },
    {
      "cell_type": "markdown",
      "source": [
        "# 8. Создайте единичный тензор размера 5x6"
      ],
      "metadata": {
        "id": "IgdYLfysifSC"
      }
    },
    {
      "cell_type": "code",
      "source": [
        "# 8. Создайте единичный тензор размера 5x6\n",
        "\n",
        "ones = torch.ones(5, 6)\n",
        "ones"
      ],
      "metadata": {
        "colab": {
          "base_uri": "https://localhost:8080/"
        },
        "id": "GeeJk8XbidzW",
        "outputId": "e98832c3-80c7-4ac9-e9ff-91f2c2d37f7a"
      },
      "execution_count": 83,
      "outputs": [
        {
          "output_type": "execute_result",
          "data": {
            "text/plain": [
              "tensor([[1., 1., 1., 1., 1., 1.],\n",
              "        [1., 1., 1., 1., 1., 1.],\n",
              "        [1., 1., 1., 1., 1., 1.],\n",
              "        [1., 1., 1., 1., 1., 1.],\n",
              "        [1., 1., 1., 1., 1., 1.]])"
            ]
          },
          "metadata": {},
          "execution_count": 83
        }
      ]
    },
    {
      "cell_type": "markdown",
      "source": [
        "# 9. Переведите его в формат numpy"
      ],
      "metadata": {
        "id": "FcSI2m82isv2"
      }
    },
    {
      "cell_type": "code",
      "source": [
        "# 9. Переведите его в формат numpy\n",
        "\n",
        "ones_n = ones.numpy()\n",
        "ones_n"
      ],
      "metadata": {
        "colab": {
          "base_uri": "https://localhost:8080/"
        },
        "id": "4pNe3y23itil",
        "outputId": "f4f35d01-7151-4828-e452-c6d3defc8227"
      },
      "execution_count": 85,
      "outputs": [
        {
          "output_type": "execute_result",
          "data": {
            "text/plain": [
              "array([[1., 1., 1., 1., 1., 1.],\n",
              "       [1., 1., 1., 1., 1., 1.],\n",
              "       [1., 1., 1., 1., 1., 1.],\n",
              "       [1., 1., 1., 1., 1., 1.],\n",
              "       [1., 1., 1., 1., 1., 1.]], dtype=float32)"
            ]
          },
          "metadata": {},
          "execution_count": 85
        }
      ]
    },
    {
      "cell_type": "markdown",
      "source": [
        "# * 10. Давайте теперь пооптимизируем: возьмите функцию y = x**w1 - 2 * x**2 + 5\n",
        "# Посчитайте "
      ],
      "metadata": {
        "id": "_817Tznoje0k"
      }
    },
    {
      "cell_type": "markdown",
      "source": [
        "В ссылке с видео этого задания не было. И в методчиках тоже подобных ходов не было. Поэтому не совсем понятно, что нужно было делать. Вероятно ошибочно что-то попытался."
      ],
      "metadata": {
        "id": "X9pNtRi97uWJ"
      }
    },
    {
      "cell_type": "code",
      "source": [
        "from torch import nn \n",
        "from torch import optim\n",
        "from torch.autograd import Variable"
      ],
      "metadata": {
        "id": "k2tMSiYVlTV5"
      },
      "execution_count": 103,
      "outputs": []
    },
    {
      "cell_type": "code",
      "source": [
        "x = torch.FloatTensor([1])\n",
        "w1 = Variable(torch.FloatTensor([1]), requires_grad=True)\n",
        "\n",
        "y = x ** w1 - 2 * x ** 2 + 5"
      ],
      "metadata": {
        "id": "BnHOeKYfkGX0"
      },
      "execution_count": 104,
      "outputs": []
    },
    {
      "cell_type": "code",
      "source": [
        "crit = nn.MSELoss()\n",
        "optimizer = optim.SGD([w1], lr=0.001)\n",
        "optimizer.zero_grad()"
      ],
      "metadata": {
        "id": "LRqzc5tplnah"
      },
      "execution_count": 106,
      "outputs": []
    },
    {
      "cell_type": "code",
      "source": [
        "w1 = nn.Linear(1, 1, bias=False)"
      ],
      "metadata": {
        "id": "Jx7P_6eWl0FZ"
      },
      "execution_count": 107,
      "outputs": []
    },
    {
      "cell_type": "code",
      "source": [
        "optimizer.zero_grad()\n",
        "x = torch.FloatTensor([5])\n",
        "\n",
        "pred = x ** w1(torch.FloatTensor([1])) -2 * x**2 + 5\n",
        "loss = crit(pred, y)\n",
        "print(loss)"
      ],
      "metadata": {
        "colab": {
          "base_uri": "https://localhost:8080/"
        },
        "id": "0WAkC7uJl5MI",
        "outputId": "b61542b2-f0b2-4860-ddd4-025b29ef7a56"
      },
      "execution_count": 108,
      "outputs": [
        {
          "output_type": "stream",
          "name": "stdout",
          "text": [
            "tensor(2356.8638, grad_fn=<MseLossBackward0>)\n"
          ]
        }
      ]
    },
    {
      "cell_type": "code",
      "source": [
        "loss.backward()\n",
        "optimizer.step()"
      ],
      "metadata": {
        "id": "9H0yUVmSmA35"
      },
      "execution_count": 109,
      "outputs": []
    },
    {
      "cell_type": "code",
      "source": [
        "print(pred)\n",
        "print(w1)\n",
        "print(w1.weight.grad)"
      ],
      "metadata": {
        "colab": {
          "base_uri": "https://localhost:8080/"
        },
        "id": "pU_vtu9HmVfw",
        "outputId": "8b8691e5-ae50-4835-e3bf-c545b9724569"
      },
      "execution_count": 110,
      "outputs": [
        {
          "output_type": "stream",
          "name": "stdout",
          "text": [
            "tensor([-44.5475], grad_fn=<AddBackward0>)\n",
            "Linear(in_features=1, out_features=1, bias=False)\n",
            "tensor([[-70.7048]])\n"
          ]
        }
      ]
    }
  ]
}