{
  "cells": [
    {
      "cell_type": "markdown",
      "metadata": {
        "id": "view-in-github",
        "colab_type": "text"
      },
      "source": [
        "<a href=\"https://colab.research.google.com/github/nedokormysh/GB_PyTorch/blob/lesson8/GB_PyTorch_hw_8_dirty.ipynb\" target=\"_parent\"><img src=\"https://colab.research.google.com/assets/colab-badge.svg\" alt=\"Open In Colab\"/></a>"
      ]
    },
    {
      "cell_type": "markdown",
      "metadata": {
        "id": "mada_dsWB-fp"
      },
      "source": [
        "# Домашнее задание\n",
        "Обучить генератор создавать точки, которые будут лежать на графике функции \n",
        " $$y = \\frac{sin(x)}{x} - \\frac{x}{10}$$\n",
        "При выполнении данного задания структура GAN остается той же, но Вам нужно:\n",
        "- Сгенерировать настоящие данные\n",
        "- Изменить архитектуру дискриминатора и генератора\n",
        "- Построить графики"
      ]
    },
    {
      "cell_type": "code",
      "execution_count": 1,
      "metadata": {
        "id": "a-BIFv9dAbPC"
      },
      "outputs": [],
      "source": [
        "import matplotlib.pyplot as plt\n",
        "import numpy as np\n",
        "from torchvision import datasets, transforms\n",
        "import torch\n",
        "import torch.nn as nn\n",
        "from IPython import display"
      ]
    },
    {
      "cell_type": "code",
      "execution_count": 17,
      "metadata": {
        "colab": {
          "base_uri": "https://localhost:8080/",
          "height": 35
        },
        "id": "6pLn0i_Ed-gg",
        "outputId": "05c57bd5-2989-4d7f-d44e-c229ee554ef6"
      },
      "outputs": [
        {
          "output_type": "execute_result",
          "data": {
            "text/plain": [
              "'cpu'"
            ],
            "application/vnd.google.colaboratory.intrinsic+json": {
              "type": "string"
            }
          },
          "metadata": {},
          "execution_count": 17
        }
      ],
      "source": [
        "device = 'cuda' if torch.cuda.is_available() else 'cpu'\n",
        "device"
      ]
    },
    {
      "cell_type": "markdown",
      "metadata": {
        "id": "NMbSZMZ2KyqC"
      },
      "source": [
        "Построим график функции."
      ]
    },
    {
      "cell_type": "code",
      "execution_count": 33,
      "metadata": {
        "id": "d2rqxE1jCNhZ"
      },
      "outputs": [],
      "source": [
        "x = np.linspace(-50, 50, 1000)\n",
        "y = (np.sin(x) / x) - (x / 10)\n",
        "# plt.figure(figsize=(8, 6))\n",
        "# plt.plot(x, y)\n",
        "# plt.title('График зависимости у от значений x')\n",
        "# plt.grid()"
      ]
    },
    {
      "cell_type": "code",
      "execution_count": null,
      "metadata": {
        "id": "wzwjHfYzK-iB"
      },
      "outputs": [],
      "source": [
        "# n_epochs = 20  # количество эпох\n",
        "# lr = 0.0002  # шаг обучения\n",
        "\n",
        "# b1 = 0.5  # гиперпараметр для оптимайзера Adam\n",
        "# b2 = 0.999  # гиперпараметр для оптимайзера Adam\n",
        "\n",
        "# batch_size = 128\n",
        "# latent_dim = 1000  # Размерность случайного вектора, который подается на вход генератору\n",
        "\n",
        "# sample_interval = 500  # количество итераций для отображения процесса обучения"
      ]
    },
    {
      "cell_type": "markdown",
      "metadata": {
        "id": "D7tACqARMK7M"
      },
      "source": [
        "Создадим датасет."
      ]
    },
    {
      "cell_type": "code",
      "execution_count": 34,
      "metadata": {
        "id": "6ewDWdA7LTg5"
      },
      "outputs": [],
      "source": [
        "batch_size = 128\n",
        "\n",
        "class FunctionDataWrap(torch.utils.data.Dataset):\n",
        "    def __init__(self, x, y, train=True):\n",
        "          self.data = x\n",
        "          self.values = y\n",
        "\n",
        "    def __len__(self):\n",
        "        return len(self.data)\n",
        "\n",
        "    def __getitem__(self, index):\n",
        "        return self.data[index], self.values[index]\n",
        "\n",
        "\n",
        "dataset = FunctionDataWrap(x, y)\n",
        "# print(x.shape)\n",
        "\n",
        "dataloader = torch.utils.data.DataLoader(dataset, \n",
        "                                         batch_size=batch_size, \n",
        "                                         shuffle=True,\n",
        "                                         num_workers=2)"
      ]
    },
    {
      "cell_type": "code",
      "source": [
        "for i, (x_val, y_val) in enumerate(dataloader):\n",
        "  print(i\n",
        "        , x_val.shape, y_val.shape\n",
        "        )\n",
        "  \n",
        "# x_val = x_val.numpy()\n",
        "# y_val = y_val.numpy()\n",
        "\n",
        "plt.scatter(x_val, y_val)\n",
        "plt.grid()\n",
        "\n",
        "# x_val, y_val"
      ],
      "metadata": {
        "colab": {
          "base_uri": "https://localhost:8080/",
          "height": 282
        },
        "id": "0kYhxDrJN4og",
        "outputId": "a0c160ea-1b2a-4fdc-b10f-1d7c1de0a369"
      },
      "execution_count": 29,
      "outputs": [
        {
          "output_type": "stream",
          "name": "stdout",
          "text": [
            "0 torch.Size([50]) torch.Size([50])\n"
          ]
        },
        {
          "output_type": "display_data",
          "data": {
            "text/plain": [
              "<Figure size 432x288 with 1 Axes>"
            ],
            "image/png": "[encoded data removed]"
          },
          "metadata": {
            "needs_background": "light"
          }
        }
      ]
    },
    {
      "cell_type": "code",
      "source": [
        "# ep = []\n",
        "# for i in range(10):\n",
        "#   ep.append(i*sample_interval)\n",
        "# ep"
      ],
      "metadata": {
        "id": "ej1vKqXX4AGz"
      },
      "execution_count": null,
      "outputs": []
    },
    {
      "cell_type": "code",
      "source": [
        "x_val"
      ],
      "metadata": {
        "colab": {
          "base_uri": "https://localhost:8080/"
        },
        "id": "U_iPN1qiOI0q",
        "outputId": "45465eb8-debc-472e-9da7-0c7d0d6323d1"
      },
      "execution_count": 5,
      "outputs": [
        {
          "output_type": "execute_result",
          "data": {
            "text/plain": [
              "tensor([-20.5706,  -1.8519, -48.2983,  24.0741, -15.4655, -18.9690,  15.5656,\n",
              "        -16.3664, -34.8849,  44.7948,  39.7898,  48.2983,  19.8699,  33.2833,\n",
              "        -30.1802,  20.9710,  38.9890,  30.6807,  -3.7538, -31.5816, -45.7958,\n",
              "         32.1822, -18.5686,  12.5626, -20.0701, -19.7698, -46.9970,  25.1752,\n",
              "         -4.7548, -29.5796, -10.0601, -44.5946,  31.1812, -48.8989,   1.0511,\n",
              "         35.8859, -16.1662,  -6.5566, -28.6787,  39.4895,  27.8779,  14.5646,\n",
              "          8.6587, -11.4615, -25.8759,  -1.3514, -12.2623,   6.7568, -36.4865,\n",
              "         18.4685, -44.3944,  -1.4515, -26.1762,  -4.3544,   1.8519,  -0.1502,\n",
              "         42.9930,  37.7878, -20.6707,  17.4675,  36.2863,   9.3594,   5.8559,\n",
              "        -46.4965, -12.5626,  -7.2573,  -5.4555, -21.5716,  46.6967,  17.9680,\n",
              "         -9.6597, -38.0881,  -0.0501,  35.1852,  11.0611, -40.0901, -22.5726,\n",
              "         -3.1532,   1.2513,  -5.2553,  44.4945,  27.3774, -18.4685,  43.9940,\n",
              "          4.3544, -45.3954,  33.0831,  24.8749,  12.9630,  49.2993, -13.3634,\n",
              "        -18.3684, -32.2823,  41.2913, -32.5826,  -3.5536,  42.5926,  48.1982,\n",
              "         17.7678, -17.1672, -48.5986, -30.2803,  -9.0591, -10.9610],\n",
              "       dtype=torch.float64)"
            ]
          },
          "metadata": {},
          "execution_count": 5
        }
      ]
    },
    {
      "cell_type": "code",
      "execution_count": null,
      "metadata": {
        "id": "savK871qhJZQ"
      },
      "outputs": [],
      "source": [
        "# x_val, y_val = dataloader"
      ]
    },
    {
      "cell_type": "markdown",
      "metadata": {
        "id": "CFepSapwRgEL"
      },
      "source": [
        "## Класс генератора."
      ]
    },
    {
      "cell_type": "code",
      "execution_count": 18,
      "metadata": {
        "id": "PfnirPrUPvc2"
      },
      "outputs": [],
      "source": [
        "class Generator(nn.Module):\n",
        "    def __init__(self):\n",
        "        super().__init__()\n",
        "        \n",
        "        # Использование таких словарей позволяет нам варьировать параметры нашей сети в процессе использования\n",
        "        self.activations = nn.ModuleDict([\n",
        "            ['lrelu', nn.LeakyReLU(0.2, inplace=True)],\n",
        "            ['relu', nn.ReLU()]\n",
        "        ])\n",
        "        \n",
        "        def block(in_feat, out_feat, normalize=True, activation='relu'):\n",
        "            layers = [nn.Linear(in_feat, out_feat)]  # Если мы создаем последовательность слоев - то мы задаем их\n",
        "                                                     # с помощью списка.\n",
        "            if normalize:\n",
        "                layers.append(nn.BatchNorm1d(out_feat))\n",
        "\n",
        "            layers.append(self.activations[activation])  # Эта строчка означает тоже самое что и layers.append(nn.LeakyReLU(0.2, inplace=True))\n",
        "            return layers\n",
        "\n",
        "        self.model = nn.Sequential(\n",
        "            *block(latent_dim, 128, normalize=False),  # Звездочка означает unpacking списка  \n",
        "            *block(128, 256, activation='lrelu'),\n",
        "            *block(256, 512),\n",
        "            *block(512, 1024),\n",
        "            nn.Linear(1024, 2)\n",
        "        )\n",
        "        self.double()\n",
        "        \n",
        "    def forward(self, z):\n",
        "        num = self.model(z)\n",
        "        # print(num)\n",
        "        return num"
      ]
    },
    {
      "cell_type": "code",
      "execution_count": null,
      "metadata": {
        "id": "F37XB-vLWZE-"
      },
      "outputs": [],
      "source": [
        "# z"
      ]
    },
    {
      "cell_type": "code",
      "execution_count": null,
      "metadata": {
        "id": "q64c0Tc2XR_F"
      },
      "outputs": [],
      "source": [
        "# class Generator(nn.Module):\n",
        "#     def __init__(self):\n",
        "#         super().__init__()\n",
        "        \n",
        "#         self.activations = nn.ModuleDict([\n",
        "#             ['lrelu', nn.LeakyReLU(0.2, inplace=True)],\n",
        "#             ['relu', nn.ReLU()]\n",
        "#         ])\n",
        "        \n",
        "#         def block(in_feat, out_feat, normalize=True, activation='relu'):\n",
        "#             layers = [nn.Linear(in_feat, out_feat)]  \n",
        "            \n",
        "#             if normalize:\n",
        "#                 layers.append(nn.BatchNorm1d(out_feat))\n",
        "\n",
        "#             layers.append(self.activations[activation])\n",
        "#             return layers\n",
        "\n",
        "#         self.model = nn.Sequential(\n",
        "#             *block(latent_dim, 128, normalize=False),\n",
        "#             *block(128, 256, activation='lrelu'),\n",
        "#             *block(256, 512, activation='lrelu'),\n",
        "#             *block(512, 1024),\n",
        "#             nn.Linear(1024, 2),\n",
        "#         )\n",
        "#         self.double()\n",
        "\n",
        "#     def forward(self, z):\n",
        "#         pred = self.model(z)\n",
        "        # return pred"
      ]
    },
    {
      "cell_type": "code",
      "execution_count": null,
      "metadata": {
        "id": "zOxhZY_PWale"
      },
      "outputs": [],
      "source": [
        "# generator = Generator().to(device)\n",
        "# gen_xy = generator(z)"
      ]
    },
    {
      "cell_type": "markdown",
      "metadata": {
        "id": "Q8PUeffwVJV5"
      },
      "source": [
        "## Дискриминатор"
      ]
    },
    {
      "cell_type": "markdown",
      "metadata": {
        "id": "uSYgVsaLdi5S"
      },
      "source": [
        "### Встроенный линейный слой\n",
        "\n"
      ]
    },
    {
      "cell_type": "code",
      "execution_count": 19,
      "metadata": {
        "id": "h6EV9NECViLr"
      },
      "outputs": [],
      "source": [
        "class Discriminator(nn.Module):\n",
        "    def __init__(self):\n",
        "        super().__init__()\n",
        "\n",
        "        self.activations = nn.ModuleDict([\n",
        "            ['lrelu', nn.LeakyReLU(0.2, inplace=True)],\n",
        "            ['relu', nn.ReLU()],\n",
        "            ['sigmoid', nn.Sigmoid()],\n",
        "        ])\n",
        "\n",
        "        def block(in_feat, out_feat, normalize=False, activation='lrelu'):\n",
        "            layers = [nn.Linear(in_feat, out_feat)]\n",
        "            \n",
        "            if normalize:\n",
        "                layers.append(nn.BatchNorm1d(out_feat))\n",
        "                \n",
        "            layers.append(self.activations[activation]) \n",
        "            \n",
        "            return layers\n",
        "\n",
        "        self.model = nn.Sequential(\n",
        "            *block(2, 1024),\n",
        "            *block(1024, 512),\n",
        "            *block(512, 256),\n",
        "            *block(256, 1, activation='sigmoid'),\n",
        "        )\n",
        "        \n",
        "        self.double()\n",
        "  \n",
        "    def forward(self, x):\n",
        "        validity = self.model(x)\n",
        "        return validity"
      ]
    },
    {
      "cell_type": "markdown",
      "metadata": {
        "id": "Qzdl2TTNdbDL"
      },
      "source": [
        "### Через CustomLinearLayer"
      ]
    },
    {
      "cell_type": "code",
      "execution_count": null,
      "metadata": {
        "id": "KU8e7ERxeFvv"
      },
      "outputs": [],
      "source": [
        "# class CustomLinearLayer(nn.Module):\n",
        "#     def __init__(self, size_in, size_out):\n",
        "#         # забираем все методы\n",
        "#         super().__init__()\n",
        "#         # инициализируем веса\n",
        "#         self.size_in, self.size_out = size_in, size_out\n",
        "        \n",
        "#         weights = torch.Tensor(size_out, size_in)\n",
        "#         self.weights = nn.Parameter(weights) # Обьявляем веса как параметры слоя\n",
        "#         # если объект имеет класс параметров, то он обучаемый, т.е. через него будут прогоняться градиенты\n",
        "\n",
        "#         # подготавливаем переменные для сдвига bias\n",
        "#         bias = torch.Tensor(size_out)\n",
        "#         self.bias = nn.Parameter(bias)\n",
        "\n",
        "#         # инициализируем веса и смещения (байесы) близкими к нулю значениями\n",
        "#         # в данном примере если поставить -0,005 и 0,005, обучается дольше и хуже\n",
        "#         nn.init.uniform_(self.weights, -0.5, 0.5) \n",
        "#         nn.init.uniform_(self.bias, -0.5, 0.5)  \n",
        "\n",
        "#     def forward(self, x):\n",
        "#         # По формуле линейного слоя, нам нужно умножить наши данные \n",
        "#         # на транспонированные веса и добавить смещение\n",
        "#         w_times_x = torch.mm(x, self.weights.t())\n",
        "#         return torch.add(w_times_x, self.bias) "
      ]
    },
    {
      "cell_type": "code",
      "execution_count": null,
      "metadata": {
        "id": "GuX6P300VOTb"
      },
      "outputs": [],
      "source": [
        "# class Discriminator(nn.Module):\n",
        "#     def __init__(self):\n",
        "#         super().__init__()\n",
        "\n",
        "#         self.model = nn.Sequential(\n",
        "#             CustomLinearLayer(2, 512),\n",
        "#             nn.LeakyReLU(0.2, inplace=True),\n",
        "#             CustomLinearLayer(512, 256),\n",
        "#             nn.LeakyReLU(0.2, inplace=True),\n",
        "#             CustomLinearLayer(256, 1),\n",
        "#             nn.Sigmoid()\n",
        "#         )\n",
        "  \n",
        "\n",
        "#     def forward(self, img):\n",
        "#         img_flat = img.reshape(img.size(0), -1)\n",
        "#         validity = self.model(img_flat)\n",
        "#         return validity"
      ]
    },
    {
      "cell_type": "markdown",
      "metadata": {
        "id": "9kMbjrF4dqgO"
      },
      "source": [
        "## Обучение"
      ]
    },
    {
      "cell_type": "code",
      "execution_count": 30,
      "metadata": {
        "id": "N2JnHkPDdVQK"
      },
      "outputs": [],
      "source": [
        "n_epochs = 20  # количество эпох\n",
        "lr = 0.0001  # шаг обучения\n",
        "\n",
        "b1 = 0.5  # гиперпараметр для оптимайзера Adam\n",
        "b2 = 0.999  # гиперпараметр для оптимайзера Adam\n",
        "\n",
        "batch_size = 128\n",
        "latent_dim = 200  # Размерность случайного вектора, который подается на вход генератору\n",
        "\n",
        "sample_interval = 100  # количество итераций для отображения процесса обучения"
      ]
    },
    {
      "cell_type": "code",
      "execution_count": 31,
      "metadata": {
        "id": "gJogJw8NdVGT"
      },
      "outputs": [],
      "source": [
        "generator = Generator().to(device)\n",
        "discriminator = Discriminator().to(device)\n",
        "\n",
        "# Для каждой нейронки свой оптимизатор\n",
        "optimizer_G = torch.optim.Adam(\n",
        "    generator.parameters(),\n",
        "    lr=lr, \n",
        "    betas=(b1, b2)\n",
        ")\n",
        "optimizer_D = torch.optim.Adam(\n",
        "    discriminator.parameters(), \n",
        "    lr=lr, \n",
        "    betas=(b1, b2)\n",
        ")\n",
        "\n",
        "# Но вот функция ошибки у нас будет одна общая\n",
        "adversarial_loss = torch.nn.BCELoss()"
      ]
    },
    {
      "cell_type": "code",
      "execution_count": null,
      "metadata": {
        "id": "0iKp51qPe3lo"
      },
      "outputs": [],
      "source": [
        "# optimizer_G"
      ]
    },
    {
      "cell_type": "code",
      "execution_count": null,
      "metadata": {
        "id": "i-3m8X7Je6TL"
      },
      "outputs": [],
      "source": [
        "# optimizer_D"
      ]
    },
    {
      "cell_type": "code",
      "execution_count": null,
      "metadata": {
        "id": "i3-Wi8a0bbnW"
      },
      "outputs": [],
      "source": [
        "# valid.type()"
      ]
    },
    {
      "cell_type": "code",
      "execution_count": null,
      "metadata": {
        "id": "CQQWiI7HbtNm"
      },
      "outputs": [],
      "source": [
        "# valid = torch.DoubleTensor(len(x_val), 1).fill_(1.0).to(device)"
      ]
    },
    {
      "cell_type": "code",
      "execution_count": null,
      "metadata": {
        "id": "OPeqtnK3arMV"
      },
      "outputs": [],
      "source": [
        "# real_pred = discriminator(real_xy)\n",
        "# # real_pred\n",
        "# d_real_loss = adversarial_loss(real_pred, valid)"
      ]
    },
    {
      "cell_type": "code",
      "execution_count": null,
      "metadata": {
        "id": "HHJ6KOfdam1R"
      },
      "outputs": [],
      "source": [
        "# d_real_loss = adversarial_loss(real_pred, valid)"
      ]
    },
    {
      "cell_type": "code",
      "execution_count": null,
      "metadata": {
        "id": "toLYfvITc4-2"
      },
      "outputs": [],
      "source": [
        "# y_val.shape"
      ]
    },
    {
      "cell_type": "code",
      "execution_count": null,
      "metadata": {
        "id": "xpDUfkB0dWdU"
      },
      "outputs": [],
      "source": [
        "# x_val.shape"
      ]
    },
    {
      "cell_type": "code",
      "execution_count": null,
      "metadata": {
        "id": "wlRhksnTgCar"
      },
      "outputs": [],
      "source": [
        "# (x_val, y_val) = dataloader\n",
        "# x_val"
      ]
    },
    {
      "cell_type": "code",
      "execution_count": null,
      "metadata": {
        "id": "sQH81a-uirCA"
      },
      "outputs": [],
      "source": [
        "# x_val.shape"
      ]
    },
    {
      "cell_type": "code",
      "execution_count": null,
      "metadata": {
        "id": "r7eyCW2ai-O5"
      },
      "outputs": [],
      "source": [
        "# for i, (x_val, y_val) in enumerate(dataloader):\n",
        "#   print(i, x_val.shape, y_val.shape)"
      ]
    },
    {
      "cell_type": "markdown",
      "source": [
        "## i"
      ],
      "metadata": {
        "id": "RgKrnHEJLw_Q"
      }
    },
    {
      "cell_type": "code",
      "execution_count": 33,
      "metadata": {
        "colab": {
          "base_uri": "https://localhost:8080/",
          "height": 756
        },
        "id": "gXr-ZeMUHw__",
        "outputId": "423ed74e-d051-45a8-b886-eb3a3fba3d21"
      },
      "outputs": [
        {
          "output_type": "stream",
          "name": "stdout",
          "text": [
            "[Epoch 0/20] [Batch 0/1]|[D loss: 0.5195747977140024] [G loss: 1.1187410941698852]\n",
            "1 0\n",
            "2 0\n",
            "3 0\n",
            "4 0\n",
            "5 0\n",
            "6 0\n",
            "7 0\n",
            "8 0\n",
            "9 0\n",
            "10 0\n",
            "11 0\n",
            "12 0\n",
            "13 0\n",
            "14 0\n",
            "15 0\n",
            "16 0\n",
            "17 0\n",
            "18 0\n",
            "19 0\n"
          ]
        },
        {
          "output_type": "execute_result",
          "data": {
            "text/plain": [
              "[<matplotlib.lines.Line2D at 0x7f8051b5fe50>]"
            ]
          },
          "metadata": {},
          "execution_count": 33
        },
        {
          "output_type": "display_data",
          "data": {
            "text/plain": [
              "<Figure size 432x288 with 0 Axes>"
            ]
          },
          "metadata": {}
        },
        {
          "output_type": "display_data",
          "data": {
            "text/plain": [
              "<Figure size 576x432 with 1 Axes>"
            ],
            "image/png": "[encoded data removed]"
          },
          "metadata": {
            "needs_background": "light"
          }
        }
      ],
      "source": [
        "import matplotlib.patches as mpatches\n",
        "\n",
        "d_loss_history = []\n",
        "g_loss_history = []\n",
        "\n",
        "for epoch in range(n_epochs):\n",
        "    # print(epoch)\n",
        "\n",
        "    for i, (x_val, y_val) in enumerate(dataloader):\n",
        "        print(epoch, i)\n",
        "        \n",
        "##################### Лейблы для данных: 1 - настоящие, 0 - сгенерированные ########\n",
        "        valid = torch.DoubleTensor(len(x_val), 1).fill_(1.0).to(device)\n",
        "        fake = torch.DoubleTensor(len(x_val), 1).fill_(0.0).to(device)\n",
        "        # print(valid.shape)\n",
        "        # print(fake)\n",
        "\n",
        "        # print(x_val)\n",
        "\n",
        "        real_xy = torch.stack((x_val.to(device), y_val.to(device)), -1)\n",
        "        # print(real_xy.shape)\n",
        "\n",
        "        # Генерация шума\n",
        "        z = torch.DoubleTensor(np.random.uniform(-1, 1, (len(x_val), latent_dim))).to(device)\n",
        "        # print(z)\n",
        "        \n",
        "        # Генерируем данные Генератором на основе шума\n",
        "        gen_xy = generator(z)\n",
        "        # print(gen_xy)\n",
        "######################  Тренировка дискриминатора    ##########################\n",
        "        \n",
        "        # Получаем предсказания дискриминатора на основе реальных данных\n",
        "        real_pred = discriminator(real_xy)\n",
        "        \n",
        "        # print(real_xy.shape)\n",
        "        # print(real_pred.shape)\n",
        "        # print(valid.shape)\n",
        "        # Тут сравниваем предсказанные значения Дискриминатора(на основе настоящих данных) с настоящими\n",
        "        d_real_loss = adversarial_loss(real_pred, valid)\n",
        "        \n",
        "        # Подаем сгенерированые данные на Дискриминатор \n",
        "        fake_pred = discriminator(gen_xy)\n",
        "        \n",
        "        # расчитываем ошибку предсказанного с фейковыми лейблами\n",
        "        d_fake_loss = adversarial_loss(fake_pred, fake)\n",
        "        \n",
        "        # И усредняем два лосса в один\n",
        "        d_loss = (d_real_loss + d_fake_loss) / 2\n",
        "\n",
        "        optimizer_D.zero_grad()\n",
        "        d_loss.backward()\n",
        "        optimizer_D.step()\n",
        "\n",
        "######################  Тренировка генератора    ##########################\n",
        "        \n",
        "        # генерация шума\n",
        "        z = torch.DoubleTensor(np.random.uniform(-1, 1, (len(x_val), latent_dim))).to(device)\n",
        "        \n",
        "        # Генерируем данные Генератором на основе шума\n",
        "        gen_xy = generator(z)\n",
        "\n",
        "        # Подаем сгенерированые данные на Дискриминатор \n",
        "        fake_pred = discriminator(gen_xy)\n",
        "    \n",
        "        # Тут сравниваем предсказанные значения Дискриминатора (на основе сгенерировнных данных) с настоящими\n",
        "        g_loss = adversarial_loss(fake_pred, valid)\n",
        "        \n",
        "        # Делаем шаг обучения нашего Генератора\n",
        "        optimizer_G.zero_grad()\n",
        "        g_loss.backward()\n",
        "        optimizer_G.step()\n",
        "\n",
        "        \n",
        "######## Отображение процесса обучения и вывод функций потерь ############\n",
        "        batches_done = epoch * len(dataloader) + i\n",
        "    \n",
        "        if batches_done % sample_interval == 0:\n",
        "            with torch.no_grad():\n",
        "                plt.clf()\n",
        "\n",
        "                display.clear_output(wait=False)\n",
        "                # sample_image(gen_imgs)\n",
        "                print(f\"[Epoch {epoch}/{n_epochs}] [Batch {i}/{len(dataloader)}]\", end='|')\n",
        "                print(f'[D loss: {d_loss.item()}] [G loss: {g_loss.item()}]') \n",
        "\n",
        "                # display.display(plt.gcf())\n",
        "                # plt.show()\n",
        "                d_loss = d_loss.cpu().detach()\n",
        "                # print(d_loss)\n",
        "                g_loss = g_loss.cpu().detach()\n",
        "\n",
        "\n",
        "                d_loss_history.append(d_loss)\n",
        "                # print(d_loss_history)\n",
        "                g_loss_history.append(g_loss)\n",
        "\n",
        "                \n",
        "                # plt.plot(np.array(d_loss_history), label='D loss', color = 'red')\n",
        "                # plt.plot(np.array(g_loss_history), label='G loss', color = 'green')\n",
        "                # plt.figure(figsize=(8, 6))\n",
        "                # plt.legend()\n",
        "                # plt.show()\n",
        "\n",
        "plt.figure(figsize=(8, 6))\n",
        "plt.grid()\n",
        "plt.plot(np.array(d_loss_history), label='D loss', color = 'red')\n",
        "plt.plot(np.array(g_loss_history), label='G loss', color = 'green')\n",
        "\n"
      ]
    },
    {
      "cell_type": "code",
      "source": [
        "def train(visual1=True, visual2=True):\n",
        "  \n",
        "  d_loss_history = []\n",
        "  g_loss_history = []\n",
        "  gen_fake = []\n",
        "\n",
        "  for epoch in range(n_epochs):\n",
        "      for i, (x_val, y_val) in enumerate(dataloader):\n",
        "        \n",
        "##################### Лейблы для данных: 1 - настоящие, 0 - сгенерированные ########\n",
        "        valid = torch.DoubleTensor(len(x_val), 1).fill_(1.0).to(device)\n",
        "        fake = torch.DoubleTensor(len(x_val), 1).fill_(0.0).to(device)\n",
        "\n",
        "        real_xy = torch.stack((x_val.to(device), y_val.to(device)), -1)\n",
        "\n",
        "        # Генерация шума\n",
        "        z = torch.DoubleTensor(np.random.uniform(-1, 1, (len(x_val), latent_dim))).to(device)\n",
        "        # print(z)\n",
        "        \n",
        "        # Генерируем данные Генератором на основе шума\n",
        "        gen_xy = generator(z)\n",
        "        \n",
        "######################  Тренировка дискриминатора    ##########################\n",
        "        \n",
        "        # Получаем предсказания дискриминатора на основе реальных данных\n",
        "        real_pred = discriminator(real_xy)\n",
        "        \n",
        "        # Тут сравниваем предсказанные значения Дискриминатора(на основе настоящих данных) с настоящими\n",
        "        d_real_loss = adversarial_loss(real_pred, valid)\n",
        "        \n",
        "        # Подаем сгенерированые данные на Дискриминатор \n",
        "        fake_pred = discriminator(gen_xy)\n",
        "        \n",
        "        # расчитываем ошибку предсказанного с фейковыми лейблами\n",
        "        d_fake_loss = adversarial_loss(fake_pred, fake)\n",
        "        \n",
        "        # И усредняем два лосса в один\n",
        "        d_loss = (d_real_loss + d_fake_loss) / 2\n",
        "\n",
        "        optimizer_D.zero_grad()\n",
        "        d_loss.backward()\n",
        "        optimizer_D.step()\n",
        "\n",
        "######################  Тренировка генератора    ##########################\n",
        "        \n",
        "        # генерация шума\n",
        "        z = torch.DoubleTensor(np.random.uniform(-1, 1, (len(x_val), latent_dim))).to(device)\n",
        "        \n",
        "        # Генерируем данные Генератором на основе шума\n",
        "        gen_xy = generator(z)\n",
        "\n",
        "        if epoch == n_epochs-1:\n",
        "          gen_fake.append(gen_xy.detach())\n",
        "\n",
        "        # Подаем сгенерированые данные на Дискриминатор \n",
        "        fake_pred = discriminator(gen_xy)\n",
        "    \n",
        "        # Тут сравниваем предсказанные значения Дискриминатора (на основе сгенерировнных данных) с настоящими\n",
        "        g_loss = adversarial_loss(fake_pred, valid)\n",
        "        \n",
        "        # Делаем шаг обучения нашего Генератора\n",
        "        optimizer_G.zero_grad()\n",
        "        g_loss.backward()\n",
        "        optimizer_G.step()\n",
        "\n",
        "        \n",
        "######## Отображение процесса обучения и вывод функций потерь ############\n",
        "        batches_done = epoch * len(dataloader) + i\n",
        "    \n",
        "        if batches_done % sample_interval == 0:\n",
        "            with torch.no_grad():\n",
        "                plt.clf()\n",
        "\n",
        "                display.clear_output(wait=False)\n",
        "                # sample_image(gen_imgs)\n",
        "                print(f\"[Epoch {epoch}/{n_epochs}] [Batch {i}/{len(dataloader)}]\", end='|')\n",
        "                print(f'[D loss: {d_loss.item()}] [G loss: {g_loss.item()}]') \n",
        "\n",
        "                # display.display(plt.gcf())\n",
        "                # plt.show()\n",
        "                d_loss = d_loss.cpu().detach()\n",
        "                g_loss = g_loss.cpu().detach()\n",
        "\n",
        "\n",
        "                d_loss_history.append(d_loss)\n",
        "                # print(d_loss_history)\n",
        "                g_loss_history.append(g_loss)\n",
        "\n",
        "  if visual1 == True:\n",
        "    plt.figure(figsize=(8, 6))\n",
        "    plt.grid()\n",
        "    plt.plot(np.array(d_loss_history), label='D loss', color = 'red')\n",
        "    plt.plot(np.array(g_loss_history), label='G loss', color = 'green')\n",
        "  \n",
        "  if visual2 == True:\n",
        "    x_fake = []\n",
        "    y_fake = []\n",
        "\n",
        "    for el in gen_fake:\n",
        "      for i in el:\n",
        "        x_fake.append(i[0].item())\n",
        "        y_fake.append(i[1].item())\n",
        "\n",
        "    plt.figure(figsize=(10, 8))\n",
        "    plt.scatter(x_fake,  y_fake)\n",
        "    plt.plot(x, y, c='r', label='original')\n",
        "    plt.grid()"
      ],
      "metadata": {
        "id": "L1IbXPZAI9Lh"
      },
      "execution_count": 21,
      "outputs": []
    },
    {
      "cell_type": "code",
      "source": [
        "train()"
      ],
      "metadata": {
        "colab": {
          "base_uri": "https://localhost:8080/",
          "height": 875
        },
        "id": "KxTTWSmLJBYd",
        "outputId": "042abe45-e4b3-406b-e564-2647adb31a28"
      },
      "execution_count": 35,
      "outputs": [
        {
          "output_type": "stream",
          "name": "stdout",
          "text": [
            "[Epoch 12/20] [Batch 4/8]|[D loss: 0.532392510148038] [G loss: 1.2586186633189669]\n"
          ]
        },
        {
          "output_type": "display_data",
          "data": {
            "text/plain": [
              "<Figure size 432x288 with 0 Axes>"
            ]
          },
          "metadata": {}
        },
        {
          "output_type": "display_data",
          "data": {
            "text/plain": [
              "<Figure size 576x432 with 1 Axes>"
            ],
            "image/png": "[encoded data removed]"
          },
          "metadata": {
            "needs_background": "light"
          }
        },
        {
          "output_type": "display_data",
          "data": {
            "text/plain": [
              "<Figure size 720x576 with 1 Axes>"
            ],
            "image/png": "[encoded data removed]"
          },
          "metadata": {
            "needs_background": "light"
          }
        }
      ]
    },
    {
      "cell_type": "code",
      "execution_count": 23,
      "metadata": {
        "id": "X2nMFGXW-D-s"
      },
      "outputs": [],
      "source": [
        "# plt.figure(figsize=(8, 6))\n",
        "# plt.grid()\n",
        "# plt.plot(np.array(d_loss_history), label='D loss', color = 'red')\n",
        "# plt.plot(np.array(g_loss_history), label='G loss', color = 'green')"
      ]
    },
    {
      "cell_type": "code",
      "source": [
        "# x_val"
      ],
      "metadata": {
        "colab": {
          "base_uri": "https://localhost:8080/"
        },
        "id": "9rUZqFb4Iimb",
        "outputId": "5f259fa2-cc35-4ad7-981e-afb0da591665"
      },
      "execution_count": 22,
      "outputs": [
        {
          "output_type": "execute_result",
          "data": {
            "text/plain": [
              "tensor([ 31.8182, -26.7677,  27.7778,  11.6162, -35.8586, -23.7374, -44.9495,\n",
              "         47.9798,  36.8687,  -9.5960,  42.9293, -45.9596,  -5.5556,  16.6667,\n",
              "        -43.9394,  38.8889,  29.7980,  46.9697,  -6.5657,  -7.5758,  21.7172,\n",
              "         10.6061, -32.8283,   2.5253,  41.9192,  15.6566,   6.5657, -27.7778,\n",
              "         -2.5253,  -4.5455,  30.8081, -29.7980, -30.8081, -34.8485,  13.6364,\n",
              "          9.5960,  35.8586, -39.8990, -11.6162,  -8.5859, -13.6364,  26.7677,\n",
              "        -17.6768,  33.8384,  39.8990, -18.6869,  25.7576, -28.7879,  22.7273,\n",
              "          0.5051, -16.6667,  24.7475,  -0.5051,  23.7374,   1.5152,  19.6970,\n",
              "         37.8788,  45.9596, -40.9091, -42.9293, -12.6263,  34.8485,  43.9394,\n",
              "          3.5354, -47.9798, -46.9697,  17.6768, -24.7475, -15.6566,  40.9091,\n",
              "        -48.9899, -50.0000, -20.7071, -22.7273,  28.7879, -36.8687, -21.7172,\n",
              "         -1.5152, -38.8889,  12.6263,  20.7071, -31.8182, -14.6465,   4.5455,\n",
              "         -3.5354,   8.5859, -25.7576, -33.8384,  50.0000, -19.6970,  18.6869,\n",
              "         44.9495,   7.5758, -37.8788,  14.6465,  32.8283,  48.9899, -10.6061,\n",
              "          5.5556, -41.9192], dtype=torch.float64)"
            ]
          },
          "metadata": {},
          "execution_count": 22
        }
      ]
    }
  ],
  "metadata": {
    "colab": {
      "provenance": [],
      "authorship_tag": "ABX9TyM2/vZFHVpMOVCPLlzIsCfX",
      "include_colab_link": true
    },
    "gpuClass": "standard",
    "kernelspec": {
      "display_name": "Python 3",
      "name": "python3"
    },
    "language_info": {
      "name": "python"
    }
  },
  "nbformat": 4,
  "nbformat_minor": 0
}